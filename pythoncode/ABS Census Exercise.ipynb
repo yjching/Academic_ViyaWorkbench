{
 "cells": [
  {
   "cell_type": "markdown",
   "id": "bfa3b137",
   "metadata": {},
   "source": [
    "# Hands-On Workshop Exercise\n",
    "---\n",
    "\n",
    "For this exercise, your goal is to replace the scikit-learn model in the specified code, with a SAS Viya ML model.\n",
    "\n",
    "There is sample code already to load the data, transform it, train a model, and register it. However, it will fail since the model registration code is specifically for a SAS model and the model specified is a scikit-learn model.\n",
    "\n",
    "You should not need to modify any other code other than the cell specified, and the first cell to specify your name.\n"
   ]
  },
  {
   "cell_type": "code",
   "execution_count": null,
   "id": "a207c94a-742a-4f85-858d-422d383170b3",
   "metadata": {},
   "outputs": [],
   "source": [
    "name = \"tztsai\""
   ]
  },
  {
   "cell_type": "code",
   "execution_count": null,
   "id": "8a847a00-5bdd-4330-8e60-2e790fe4f66d",
   "metadata": {},
   "outputs": [],
   "source": [
    "import pandas as pd\n",
    "from sklearn.ensemble import GradientBoostingClassifier\n",
    "from pathlib import Path\n",
    "import os\n",
    "import requests\n",
    "from sasctl import Session\n",
    "from sasctl.services import model_repository as mr, model_management as mm"
   ]
  },
  {
   "cell_type": "code",
   "execution_count": null,
   "id": "58ebf251",
   "metadata": {},
   "outputs": [],
   "source": [
    "# Import data\n",
    "\n",
    "# Call csv file by name\n",
    "g02 = pd.read_csv(\"/workspaces/myfolder/Academic_ViyaWorkbench/data/2021 Census GCP Statistical Area 2 for AUS/2021Census_G02_AUST_SA2.csv\")\n",
    "g33 = pd.read_csv(\"/workspaces/myfolder/Academic_ViyaWorkbench/data/2021 Census GCP Statistical Area 2 for AUS/2021Census_G33_AUST_SA2.csv\")\n",
    "g34 = pd.read_csv(\"/workspaces/myfolder/Academic_ViyaWorkbench/data/2021 Census GCP Statistical Area 2 for AUS/2021Census_G34_AUST_SA2.csv\")\n",
    "g35 = pd.read_csv(\"/workspaces/myfolder/Academic_ViyaWorkbench/data/2021 Census GCP Statistical Area 2 for AUS/2021Census_G35_AUST_SA2.csv\")\n",
    "g38 = pd.read_csv(\"/workspaces/myfolder/Academic_ViyaWorkbench/data/2021 Census GCP Statistical Area 2 for AUS/2021Census_G38_AUST_SA2.csv\")\n",
    "\n",
    "# Store DataFrames in a dictionary\n",
    "gcp = {\n",
    "    'g02': g02,\n",
    "    'g33': g33,\n",
    "    'g34': g34,\n",
    "    'g35': g35,\n",
    "    'g38': g38\n",
    "}"
   ]
  },
  {
   "cell_type": "code",
   "execution_count": null,
   "id": "d9841284",
   "metadata": {},
   "outputs": [],
   "source": [
    "# Data Wrangling\n",
    "\n",
    "# Select columns in g02\n",
    "# removing medians of variables explained in other df\n",
    "g02_filtered =  g02.drop(columns=['Median_mortgage_repay_monthly',\n",
    "                                 'Median_tot_prsnl_inc_weekly', \n",
    "                                 'Median_tot_fam_inc_weekly', \n",
    "                                 'Median_tot_hhd_inc_weekly'])\n",
    "\n",
    "# Select columns in g33\n",
    "# Select columns that contain both \"HI_\" and \"_Tot\"\n",
    "g33_col_mask = g33.columns[g33.columns.str.contains(\"HI_\") & g33.columns.str.contains(\"_Tot\")]\n",
    "\n",
    "# Append the column name 'SA2_CODE_2021' to the list\n",
    "g33_col_mask = g33_col_mask.insert(0, 'SA2_CODE_2021')\n",
    "\n",
    "g33_filtered = g33[g33_col_mask]\n",
    "\n",
    "# Select columns in g34\n",
    "# drop total and not stated households\n",
    "g34_filtered = g34.drop(columns=['Num_MVs_per_dweling_Tot', \n",
    "                                 'Num_MVs_NS', \n",
    "                                 'Total_dwelings'])\n",
    "\n",
    "# Select columns in g35\n",
    "# Select columns that contain \"_Total\"\n",
    "g35_col_mask = g35.columns[g35.columns.str.contains(\"_Total\")]\n",
    "\n",
    "# drop the last Total column\n",
    "g35_col_mask = g35_col_mask.drop('Total_Total')\n",
    "\n",
    "# Append the column name 'SA2_CODE_2021' to the list\n",
    "g35_col_mask = g35_col_mask.insert(0, 'SA2_CODE_2021')\n",
    "\n",
    "# Apply filtering mask\n",
    "g35_filtered = g35[g35_col_mask]\n",
    "\n",
    "# Select columns in g38\n",
    "# Select columns that contain both \"M_\" and \"_Tot\"\n",
    "g38_col_mask = g38.columns[g38.columns.str.contains(\"M_\") & g38.columns.str.contains(\"_Tot\")]\n",
    "\n",
    "# Append the column name 'SA2_CODE_2021' to the list\n",
    "g38_col_mask = g38_col_mask.insert(0, 'SA2_CODE_2021')\n",
    "\n",
    "# Apply filtering mask\n",
    "g38_filtered = g38[g38_col_mask]\n",
    "\n",
    "# Joining dataframes\n",
    "\n",
    "def merge_dataframes(dataframes, common_column):\n",
    "    # Start with the first DataFrame\n",
    "    merged_df = dataframes[0]\n",
    "\n",
    "    # Iteratively merge the remaining DataFrames\n",
    "    for df in dataframes[1:]:\n",
    "        merged_df = merged_df.merge(df, on=common_column, how='inner')\n",
    "\n",
    "    return merged_df\n",
    "\n",
    "# Merging filtered df\n",
    "census_joined = merge_dataframes([g02_filtered, g33_filtered, g34_filtered, g35_filtered, g38_filtered], 'SA2_CODE_2021')\n",
    "census_joined.shape"
   ]
  },
  {
   "cell_type": "code",
   "execution_count": null,
   "id": "c01baee4",
   "metadata": {},
   "outputs": [],
   "source": [
    "# Prepare features and target\n",
    "def prepare_features(df, target):\n",
    "    features = df.columns.drop(target)\n",
    "    X = df[features]\n",
    "    y = df[target]\n",
    "    return X, y"
   ]
  },
  {
   "cell_type": "code",
   "execution_count": null,
   "id": "0aeec36c",
   "metadata": {},
   "outputs": [],
   "source": [
    "X, y = prepare_features(census_joined, 'HI_300_399_Tot')\n",
    "X.columns"
   ]
  },
  {
   "cell_type": "code",
   "execution_count": null,
   "id": "26a40549",
   "metadata": {},
   "outputs": [],
   "source": [
    "## Split out holdout\n",
    "from sklearn.model_selection import train_test_split\n",
    "X_train, X_valid, y_train, y_valid = train_test_split(X, y, test_size=0.3, random_state=0)"
   ]
  },
  {
   "cell_type": "markdown",
   "id": "0f40f956",
   "metadata": {},
   "source": [
    "# Start Code Section\n",
    "---\n",
    "\n",
    "Edit the cell below - \n",
    "\n",
    "Make sure your variable for the model is called wb_model"
   ]
  },
  {
   "cell_type": "code",
   "execution_count": null,
   "id": "3840b7e1",
   "metadata": {},
   "outputs": [],
   "source": [
    "wb_model = GradientBoostingClassifier()\n",
    "wb_model.fit(X_train, y_train)"
   ]
  },
  {
   "cell_type": "markdown",
   "id": "4f3af687",
   "metadata": {},
   "source": [
    "# End Code Section\n",
    "---\n",
    "Do not edit anything after this part of the script"
   ]
  },
  {
   "cell_type": "code",
   "execution_count": null,
   "id": "b846a15b-c469-46de-9aa9-efd593aa0af4",
   "metadata": {},
   "outputs": [],
   "source": [
    "## get access token for viya env using refresh token. change to your own viya server and preferred authentication method.\n",
    "url = \"https://apgtps2demo.gtp.unx.sas.com\"\n",
    "auth_url = f\"{url}/SASLogon/oauth/token\"\n",
    "## reading long-lived refresh token from txt file\n",
    "refresh_token = Path(f'/workspaces/{os.environ[\"DEFAULT_MOUNTNAME\"]}/Academic_ViyaWorkbench/apgtps2demo_refresh_token.txt').read_text().replace('\\n', '')\n",
    "\n",
    "payload=f'grant_type=refresh_token&refresh_token={refresh_token}'\n",
    "headers = {\n",
    "  'Accept': 'application/json',\n",
    "  'Content-Type': 'application/x-www-form-urlencoded',\n",
    "  'Authorization': 'Basic c2FzLmNsaTo=',\n",
    "}\n",
    "\n",
    "response = requests.request(\"POST\", auth_url, headers=headers, data=payload, verify=False)\n",
    "access_token = response.json()['access_token']"
   ]
  },
  {
   "cell_type": "code",
   "execution_count": null,
   "id": "424d0d29-d883-431e-8a17-bff4f8bd2bf7",
   "metadata": {},
   "outputs": [],
   "source": [
    "st = Session(\"https://apgtps2demo.gtp.unx.sas.com\", token=access_token, verify_ssl=False)\n",
    "st"
   ]
  },
  {
   "cell_type": "code",
   "execution_count": null,
   "id": "179d52e8",
   "metadata": {},
   "outputs": [],
   "source": [
    "project_name = \"Academic WorkshopWorkbench HandsOn \"+name"
   ]
  },
  {
   "cell_type": "code",
   "execution_count": null,
   "id": "008885a2",
   "metadata": {},
   "outputs": [],
   "source": [
    "## Create a project\n",
    "try:\n",
    "    repository = mr.get_repository('DMRepository')\n",
    "    # repository.name\n",
    "    project_create = mr.create_project(\n",
    "        {\n",
    "        'name':project_name,\n",
    "        'description':'CBR WB Hands-on Exercise',\n",
    "        'function':'classification',\n",
    "        'targetLevel':'binary',\n",
    "        },\n",
    "        repository\n",
    "    )\n",
    "    print(\"Created a new project!\")\n",
    "    project = mr.get_project(project_name)\n",
    "except:\n",
    "    print(\"Retrieving already created project\")\n",
    "    project = mr.get_project(project_name)"
   ]
  },
  {
   "cell_type": "code",
   "execution_count": null,
   "id": "3ed947f0-cbf9-4c85-ac70-c79f5b82b49c",
   "metadata": {},
   "outputs": [],
   "source": [
    "def register_model(model_name, model, project):\n",
    "    model_params = {\n",
    "        \"name\": model_name,\n",
    "        \"projectId\": project.id,\n",
    "        \"type\": \"ASTORE\",\n",
    "    }\n",
    "    astore = mr.post(\n",
    "        \"/models\",\n",
    "        files={\"files\": (f\"{model_name}.astore\", model.export())},\n",
    "        data=model_params,\n",
    "    )\n",
    "    print(astore)"
   ]
  },
  {
   "cell_type": "code",
   "execution_count": null,
   "id": "551d4dca",
   "metadata": {},
   "outputs": [],
   "source": [
    "wb_model"
   ]
  },
  {
   "cell_type": "markdown",
   "id": "6075e59c",
   "metadata": {},
   "source": [
    "#### Model Registration\n",
    "---"
   ]
  },
  {
   "cell_type": "code",
   "execution_count": null,
   "id": "328feb8a-8c82-460a-b506-4666a6849efb",
   "metadata": {},
   "outputs": [],
   "source": [
    "register_model(\"MyModel \"+name, wb_model, project) "
   ]
  }
 ],
 "metadata": {
  "kernelspec": {
   "display_name": "Python 3",
   "language": "python",
   "name": "python3"
  },
  "language_info": {
   "codemirror_mode": {
    "name": "ipython",
    "version": 3
   },
   "file_extension": ".py",
   "mimetype": "text/x-python",
   "name": "python",
   "nbconvert_exporter": "python",
   "pygments_lexer": "ipython3",
   "version": "3.11.9"
  }
 },
 "nbformat": 4,
 "nbformat_minor": 5
}
