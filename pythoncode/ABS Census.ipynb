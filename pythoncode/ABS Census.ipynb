{
 "cells": [
  {
   "attachments": {},
   "cell_type": "markdown",
   "id": "b7036727-1dee-4a9f-9e02-fdcd9dd9a557",
   "metadata": {},
   "source": [
    "# Predicting Low-Income Households in Selected Areas\n",
    "\n",
    "This project aims to develop predictive models to estimate the number of low-income households in selected areas of Australia using Australian Bureau of Statistics (ABS)  data. These models will provide valuable insights for policymakers, urban planners, and social services to better understand and address socioeconomic challenges.\n",
    "\n",
    "### Project Objectives\n",
    "\n",
    "- Develop accurate predictive models for estimating the number of low-income households in selected areas.\n",
    "- Identify key socioeconomic factors that contribute to the prevalence of low-income households.\n",
    "- Create visualizations and reports to communicate findings effectively.\n",
    "- Provide a tool for stakeholders to make data-driven decisions in policy and resource allocation.\n",
    "\n",
    "### Project Scope\n",
    "\n",
    "- Focus on predicting low-income households at the Statistical Area Level 2 (SA2) geographic level.\n",
    "- Utilize ABS  data from the past  period (2021) for model development and validation.\n",
    "- [WIP] Develop models for all of Australia, with the capability to focus on specific states or regions as needed.\n",
    "\n",
    "### Data Sources\n",
    "\n",
    "After consulting the Metadata table from General Community Profiles (GCP) of the Australian  of 2021, 5 datasets were identified to be relevant to the project:\n",
    "- Selected Medians and Averages - G02\n",
    "- Total Household Income (Weekly) by Household Composition - G33\n",
    "- Number of Motor Vehicles by Dwellings - G34\n",
    "- Household Composition by Number of Persons Usually Resident - G35\n",
    "- Mortgage Repayment (Monthly) by Dwelling Structure - G38"
   ]
  },
  {
   "cell_type": "code",
   "execution_count": 1,
   "id": "b444a703",
   "metadata": {},
   "outputs": [],
   "source": [
    "## Type your name here\n",
    "name = \"yching\""
   ]
  },
  {
   "cell_type": "code",
   "execution_count": 2,
   "id": "b642cc56",
   "metadata": {},
   "outputs": [
    {
     "name": "stdout",
     "output_type": "stream",
     "text": [
      "Defaulting to user installation because normal site-packages is not writeable\n",
      "Requirement already satisfied: sasctl in /workspaces/myfolder/.user-python-packages/lib/python3.11/site-packages (1.11.1)\n",
      "Requirement already satisfied: dill in /workspaces/myfolder/.user-python-packages/lib/python3.11/site-packages (from sasctl) (0.3.9)\n",
      "Requirement already satisfied: pandas>=0.24.0 in /usr/local/lib64/python3.11/site-packages (from sasctl) (2.2.3)\n",
      "Requirement already satisfied: requests in /usr/local/lib/python3.11/site-packages (from sasctl) (2.31.0)\n",
      "Requirement already satisfied: pyyaml in /usr/local/lib64/python3.11/site-packages (from sasctl) (6.0.1)\n",
      "Requirement already satisfied: packaging in /usr/local/lib/python3.11/site-packages (from sasctl) (24.2)\n",
      "Requirement already satisfied: numpy>=1.23.2 in /usr/local/lib64/python3.11/site-packages (from pandas>=0.24.0->sasctl) (1.26.4)\n",
      "Requirement already satisfied: python-dateutil>=2.8.2 in /usr/local/lib/python3.11/site-packages (from pandas>=0.24.0->sasctl) (2.9.0)\n",
      "Requirement already satisfied: pytz>=2020.1 in /usr/local/lib/python3.11/site-packages (from pandas>=0.24.0->sasctl) (2024.1)\n",
      "Requirement already satisfied: tzdata>=2022.7 in /usr/local/lib/python3.11/site-packages (from pandas>=0.24.0->sasctl) (2024.1)\n",
      "Requirement already satisfied: charset-normalizer<4,>=2 in /usr/local/lib64/python3.11/site-packages (from requests->sasctl) (3.3.2)\n",
      "Requirement already satisfied: idna<4,>=2.5 in /usr/local/lib/python3.11/site-packages (from requests->sasctl) (3.6)\n",
      "Requirement already satisfied: urllib3<3,>=1.21.1 in /usr/local/lib/python3.11/site-packages (from requests->sasctl) (2.2.1)\n",
      "Requirement already satisfied: certifi>=2017.4.17 in /usr/local/lib/python3.11/site-packages (from requests->sasctl) (2024.2.2)\n",
      "Requirement already satisfied: six>=1.5 in /usr/local/lib/python3.11/site-packages (from python-dateutil>=2.8.2->pandas>=0.24.0->sasctl) (1.16.0)\n",
      "Defaulting to user installation because normal site-packages is not writeable\n",
      "Requirement already satisfied: xgboost in /workspaces/myfolder/.user-python-packages/lib/python3.11/site-packages (3.0.0)\n",
      "Requirement already satisfied: numpy in /usr/local/lib64/python3.11/site-packages (from xgboost) (1.26.4)\n",
      "Requirement already satisfied: nvidia-nccl-cu12 in /workspaces/myfolder/.user-python-packages/lib/python3.11/site-packages (from xgboost) (2.26.2)\n",
      "Requirement already satisfied: scipy in /usr/local/lib64/python3.11/site-packages (from xgboost) (1.12.0)\n"
     ]
    }
   ],
   "source": [
    "!pip install sasctl\n",
    "!pip install xgboost"
   ]
  },
  {
   "cell_type": "code",
   "execution_count": 3,
   "id": "93f08feb-8e6d-41a6-b7b1-fd99d5fdd1cb",
   "metadata": {},
   "outputs": [],
   "source": [
    "import warnings\n",
    "warnings.filterwarnings(\"ignore\")"
   ]
  },
  {
   "cell_type": "code",
   "execution_count": 4,
   "id": "fce57e3f-3f0f-4596-bfbb-7f6587c95b15",
   "metadata": {},
   "outputs": [],
   "source": [
    "# Import packagaes\n",
    "import os\n",
    "import pandas as pd\n",
    "import numpy as np\n",
    "import matplotlib.pyplot as plt\n",
    "import seaborn as sns\n",
    "from pathlib import Path\n",
    "import requests\n",
    "from sasctl import Session\n",
    "from sasctl.services import model_repository as mr, model_management as mm"
   ]
  },
  {
   "cell_type": "code",
   "execution_count": 5,
   "id": "bbf91a0d-2149-4ebb-ad06-d7c288106024",
   "metadata": {},
   "outputs": [
    {
     "ename": "FileNotFoundError",
     "evalue": "[Errno 2] No such file or directory: '/workspaces/myfolder/Academic_ViyaWorkbench/data/2021  GCP Statistical Area 2 for AUS/2021_G02_AUST_SA2.csv'",
     "output_type": "error",
     "traceback": [
      "\u001b[0;31m---------------------------------------------------------------------------\u001b[0m",
      "\u001b[0;31mFileNotFoundError\u001b[0m                         Traceback (most recent call last)",
      "Cell \u001b[0;32mIn[5], line 4\u001b[0m\n\u001b[1;32m      1\u001b[0m \u001b[38;5;66;03m# Import data\u001b[39;00m\n\u001b[1;32m      2\u001b[0m \n\u001b[1;32m      3\u001b[0m \u001b[38;5;66;03m# Call csv file by name\u001b[39;00m\n\u001b[0;32m----> 4\u001b[0m g02 \u001b[38;5;241m=\u001b[39m \u001b[43mpd\u001b[49m\u001b[38;5;241;43m.\u001b[39;49m\u001b[43mread_csv\u001b[49m\u001b[43m(\u001b[49m\u001b[38;5;124;43m\"\u001b[39;49m\u001b[38;5;124;43m/workspaces/myfolder/Academic_ViyaWorkbench/data/2021  GCP Statistical Area 2 for AUS/2021_G02_AUST_SA2.csv\u001b[39;49m\u001b[38;5;124;43m\"\u001b[39;49m\u001b[43m)\u001b[49m\n\u001b[1;32m      5\u001b[0m g33 \u001b[38;5;241m=\u001b[39m pd\u001b[38;5;241m.\u001b[39mread_csv(\u001b[38;5;124m\"\u001b[39m\u001b[38;5;124m/workspaces/myfolder/Academic_ViyaWorkbench/data/2021  GCP Statistical Area 2 for AUS/2021_G33_AUST_SA2.csv\u001b[39m\u001b[38;5;124m\"\u001b[39m)\n\u001b[1;32m      6\u001b[0m g34 \u001b[38;5;241m=\u001b[39m pd\u001b[38;5;241m.\u001b[39mread_csv(\u001b[38;5;124m\"\u001b[39m\u001b[38;5;124m/workspaces/myfolder/Academic_ViyaWorkbench/data/2021  GCP Statistical Area 2 for AUS/2021_G34_AUST_SA2.csv\u001b[39m\u001b[38;5;124m\"\u001b[39m)\n",
      "File \u001b[0;32m/usr/local/lib64/python3.11/site-packages/pandas/io/parsers/readers.py:1026\u001b[0m, in \u001b[0;36mread_csv\u001b[0;34m(filepath_or_buffer, sep, delimiter, header, names, index_col, usecols, dtype, engine, converters, true_values, false_values, skipinitialspace, skiprows, skipfooter, nrows, na_values, keep_default_na, na_filter, verbose, skip_blank_lines, parse_dates, infer_datetime_format, keep_date_col, date_parser, date_format, dayfirst, cache_dates, iterator, chunksize, compression, thousands, decimal, lineterminator, quotechar, quoting, doublequote, escapechar, comment, encoding, encoding_errors, dialect, on_bad_lines, delim_whitespace, low_memory, memory_map, float_precision, storage_options, dtype_backend)\u001b[0m\n\u001b[1;32m   1013\u001b[0m kwds_defaults \u001b[38;5;241m=\u001b[39m _refine_defaults_read(\n\u001b[1;32m   1014\u001b[0m     dialect,\n\u001b[1;32m   1015\u001b[0m     delimiter,\n\u001b[0;32m   (...)\u001b[0m\n\u001b[1;32m   1022\u001b[0m     dtype_backend\u001b[38;5;241m=\u001b[39mdtype_backend,\n\u001b[1;32m   1023\u001b[0m )\n\u001b[1;32m   1024\u001b[0m kwds\u001b[38;5;241m.\u001b[39mupdate(kwds_defaults)\n\u001b[0;32m-> 1026\u001b[0m \u001b[38;5;28;01mreturn\u001b[39;00m \u001b[43m_read\u001b[49m\u001b[43m(\u001b[49m\u001b[43mfilepath_or_buffer\u001b[49m\u001b[43m,\u001b[49m\u001b[43m \u001b[49m\u001b[43mkwds\u001b[49m\u001b[43m)\u001b[49m\n",
      "File \u001b[0;32m/usr/local/lib64/python3.11/site-packages/pandas/io/parsers/readers.py:620\u001b[0m, in \u001b[0;36m_read\u001b[0;34m(filepath_or_buffer, kwds)\u001b[0m\n\u001b[1;32m    617\u001b[0m _validate_names(kwds\u001b[38;5;241m.\u001b[39mget(\u001b[38;5;124m\"\u001b[39m\u001b[38;5;124mnames\u001b[39m\u001b[38;5;124m\"\u001b[39m, \u001b[38;5;28;01mNone\u001b[39;00m))\n\u001b[1;32m    619\u001b[0m \u001b[38;5;66;03m# Create the parser.\u001b[39;00m\n\u001b[0;32m--> 620\u001b[0m parser \u001b[38;5;241m=\u001b[39m \u001b[43mTextFileReader\u001b[49m\u001b[43m(\u001b[49m\u001b[43mfilepath_or_buffer\u001b[49m\u001b[43m,\u001b[49m\u001b[43m \u001b[49m\u001b[38;5;241;43m*\u001b[39;49m\u001b[38;5;241;43m*\u001b[39;49m\u001b[43mkwds\u001b[49m\u001b[43m)\u001b[49m\n\u001b[1;32m    622\u001b[0m \u001b[38;5;28;01mif\u001b[39;00m chunksize \u001b[38;5;129;01mor\u001b[39;00m iterator:\n\u001b[1;32m    623\u001b[0m     \u001b[38;5;28;01mreturn\u001b[39;00m parser\n",
      "File \u001b[0;32m/usr/local/lib64/python3.11/site-packages/pandas/io/parsers/readers.py:1620\u001b[0m, in \u001b[0;36mTextFileReader.__init__\u001b[0;34m(self, f, engine, **kwds)\u001b[0m\n\u001b[1;32m   1617\u001b[0m     \u001b[38;5;28mself\u001b[39m\u001b[38;5;241m.\u001b[39moptions[\u001b[38;5;124m\"\u001b[39m\u001b[38;5;124mhas_index_names\u001b[39m\u001b[38;5;124m\"\u001b[39m] \u001b[38;5;241m=\u001b[39m kwds[\u001b[38;5;124m\"\u001b[39m\u001b[38;5;124mhas_index_names\u001b[39m\u001b[38;5;124m\"\u001b[39m]\n\u001b[1;32m   1619\u001b[0m \u001b[38;5;28mself\u001b[39m\u001b[38;5;241m.\u001b[39mhandles: IOHandles \u001b[38;5;241m|\u001b[39m \u001b[38;5;28;01mNone\u001b[39;00m \u001b[38;5;241m=\u001b[39m \u001b[38;5;28;01mNone\u001b[39;00m\n\u001b[0;32m-> 1620\u001b[0m \u001b[38;5;28mself\u001b[39m\u001b[38;5;241m.\u001b[39m_engine \u001b[38;5;241m=\u001b[39m \u001b[38;5;28;43mself\u001b[39;49m\u001b[38;5;241;43m.\u001b[39;49m\u001b[43m_make_engine\u001b[49m\u001b[43m(\u001b[49m\u001b[43mf\u001b[49m\u001b[43m,\u001b[49m\u001b[43m \u001b[49m\u001b[38;5;28;43mself\u001b[39;49m\u001b[38;5;241;43m.\u001b[39;49m\u001b[43mengine\u001b[49m\u001b[43m)\u001b[49m\n",
      "File \u001b[0;32m/usr/local/lib64/python3.11/site-packages/pandas/io/parsers/readers.py:1880\u001b[0m, in \u001b[0;36mTextFileReader._make_engine\u001b[0;34m(self, f, engine)\u001b[0m\n\u001b[1;32m   1878\u001b[0m     \u001b[38;5;28;01mif\u001b[39;00m \u001b[38;5;124m\"\u001b[39m\u001b[38;5;124mb\u001b[39m\u001b[38;5;124m\"\u001b[39m \u001b[38;5;129;01mnot\u001b[39;00m \u001b[38;5;129;01min\u001b[39;00m mode:\n\u001b[1;32m   1879\u001b[0m         mode \u001b[38;5;241m+\u001b[39m\u001b[38;5;241m=\u001b[39m \u001b[38;5;124m\"\u001b[39m\u001b[38;5;124mb\u001b[39m\u001b[38;5;124m\"\u001b[39m\n\u001b[0;32m-> 1880\u001b[0m \u001b[38;5;28mself\u001b[39m\u001b[38;5;241m.\u001b[39mhandles \u001b[38;5;241m=\u001b[39m \u001b[43mget_handle\u001b[49m\u001b[43m(\u001b[49m\n\u001b[1;32m   1881\u001b[0m \u001b[43m    \u001b[49m\u001b[43mf\u001b[49m\u001b[43m,\u001b[49m\n\u001b[1;32m   1882\u001b[0m \u001b[43m    \u001b[49m\u001b[43mmode\u001b[49m\u001b[43m,\u001b[49m\n\u001b[1;32m   1883\u001b[0m \u001b[43m    \u001b[49m\u001b[43mencoding\u001b[49m\u001b[38;5;241;43m=\u001b[39;49m\u001b[38;5;28;43mself\u001b[39;49m\u001b[38;5;241;43m.\u001b[39;49m\u001b[43moptions\u001b[49m\u001b[38;5;241;43m.\u001b[39;49m\u001b[43mget\u001b[49m\u001b[43m(\u001b[49m\u001b[38;5;124;43m\"\u001b[39;49m\u001b[38;5;124;43mencoding\u001b[39;49m\u001b[38;5;124;43m\"\u001b[39;49m\u001b[43m,\u001b[49m\u001b[43m \u001b[49m\u001b[38;5;28;43;01mNone\u001b[39;49;00m\u001b[43m)\u001b[49m\u001b[43m,\u001b[49m\n\u001b[1;32m   1884\u001b[0m \u001b[43m    \u001b[49m\u001b[43mcompression\u001b[49m\u001b[38;5;241;43m=\u001b[39;49m\u001b[38;5;28;43mself\u001b[39;49m\u001b[38;5;241;43m.\u001b[39;49m\u001b[43moptions\u001b[49m\u001b[38;5;241;43m.\u001b[39;49m\u001b[43mget\u001b[49m\u001b[43m(\u001b[49m\u001b[38;5;124;43m\"\u001b[39;49m\u001b[38;5;124;43mcompression\u001b[39;49m\u001b[38;5;124;43m\"\u001b[39;49m\u001b[43m,\u001b[49m\u001b[43m \u001b[49m\u001b[38;5;28;43;01mNone\u001b[39;49;00m\u001b[43m)\u001b[49m\u001b[43m,\u001b[49m\n\u001b[1;32m   1885\u001b[0m \u001b[43m    \u001b[49m\u001b[43mmemory_map\u001b[49m\u001b[38;5;241;43m=\u001b[39;49m\u001b[38;5;28;43mself\u001b[39;49m\u001b[38;5;241;43m.\u001b[39;49m\u001b[43moptions\u001b[49m\u001b[38;5;241;43m.\u001b[39;49m\u001b[43mget\u001b[49m\u001b[43m(\u001b[49m\u001b[38;5;124;43m\"\u001b[39;49m\u001b[38;5;124;43mmemory_map\u001b[39;49m\u001b[38;5;124;43m\"\u001b[39;49m\u001b[43m,\u001b[49m\u001b[43m \u001b[49m\u001b[38;5;28;43;01mFalse\u001b[39;49;00m\u001b[43m)\u001b[49m\u001b[43m,\u001b[49m\n\u001b[1;32m   1886\u001b[0m \u001b[43m    \u001b[49m\u001b[43mis_text\u001b[49m\u001b[38;5;241;43m=\u001b[39;49m\u001b[43mis_text\u001b[49m\u001b[43m,\u001b[49m\n\u001b[1;32m   1887\u001b[0m \u001b[43m    \u001b[49m\u001b[43merrors\u001b[49m\u001b[38;5;241;43m=\u001b[39;49m\u001b[38;5;28;43mself\u001b[39;49m\u001b[38;5;241;43m.\u001b[39;49m\u001b[43moptions\u001b[49m\u001b[38;5;241;43m.\u001b[39;49m\u001b[43mget\u001b[49m\u001b[43m(\u001b[49m\u001b[38;5;124;43m\"\u001b[39;49m\u001b[38;5;124;43mencoding_errors\u001b[39;49m\u001b[38;5;124;43m\"\u001b[39;49m\u001b[43m,\u001b[49m\u001b[43m \u001b[49m\u001b[38;5;124;43m\"\u001b[39;49m\u001b[38;5;124;43mstrict\u001b[39;49m\u001b[38;5;124;43m\"\u001b[39;49m\u001b[43m)\u001b[49m\u001b[43m,\u001b[49m\n\u001b[1;32m   1888\u001b[0m \u001b[43m    \u001b[49m\u001b[43mstorage_options\u001b[49m\u001b[38;5;241;43m=\u001b[39;49m\u001b[38;5;28;43mself\u001b[39;49m\u001b[38;5;241;43m.\u001b[39;49m\u001b[43moptions\u001b[49m\u001b[38;5;241;43m.\u001b[39;49m\u001b[43mget\u001b[49m\u001b[43m(\u001b[49m\u001b[38;5;124;43m\"\u001b[39;49m\u001b[38;5;124;43mstorage_options\u001b[39;49m\u001b[38;5;124;43m\"\u001b[39;49m\u001b[43m,\u001b[49m\u001b[43m \u001b[49m\u001b[38;5;28;43;01mNone\u001b[39;49;00m\u001b[43m)\u001b[49m\u001b[43m,\u001b[49m\n\u001b[1;32m   1889\u001b[0m \u001b[43m\u001b[49m\u001b[43m)\u001b[49m\n\u001b[1;32m   1890\u001b[0m \u001b[38;5;28;01massert\u001b[39;00m \u001b[38;5;28mself\u001b[39m\u001b[38;5;241m.\u001b[39mhandles \u001b[38;5;129;01mis\u001b[39;00m \u001b[38;5;129;01mnot\u001b[39;00m \u001b[38;5;28;01mNone\u001b[39;00m\n\u001b[1;32m   1891\u001b[0m f \u001b[38;5;241m=\u001b[39m \u001b[38;5;28mself\u001b[39m\u001b[38;5;241m.\u001b[39mhandles\u001b[38;5;241m.\u001b[39mhandle\n",
      "File \u001b[0;32m/usr/local/lib64/python3.11/site-packages/pandas/io/common.py:873\u001b[0m, in \u001b[0;36mget_handle\u001b[0;34m(path_or_buf, mode, encoding, compression, memory_map, is_text, errors, storage_options)\u001b[0m\n\u001b[1;32m    868\u001b[0m \u001b[38;5;28;01melif\u001b[39;00m \u001b[38;5;28misinstance\u001b[39m(handle, \u001b[38;5;28mstr\u001b[39m):\n\u001b[1;32m    869\u001b[0m     \u001b[38;5;66;03m# Check whether the filename is to be opened in binary mode.\u001b[39;00m\n\u001b[1;32m    870\u001b[0m     \u001b[38;5;66;03m# Binary mode does not support 'encoding' and 'newline'.\u001b[39;00m\n\u001b[1;32m    871\u001b[0m     \u001b[38;5;28;01mif\u001b[39;00m ioargs\u001b[38;5;241m.\u001b[39mencoding \u001b[38;5;129;01mand\u001b[39;00m \u001b[38;5;124m\"\u001b[39m\u001b[38;5;124mb\u001b[39m\u001b[38;5;124m\"\u001b[39m \u001b[38;5;129;01mnot\u001b[39;00m \u001b[38;5;129;01min\u001b[39;00m ioargs\u001b[38;5;241m.\u001b[39mmode:\n\u001b[1;32m    872\u001b[0m         \u001b[38;5;66;03m# Encoding\u001b[39;00m\n\u001b[0;32m--> 873\u001b[0m         handle \u001b[38;5;241m=\u001b[39m \u001b[38;5;28;43mopen\u001b[39;49m\u001b[43m(\u001b[49m\n\u001b[1;32m    874\u001b[0m \u001b[43m            \u001b[49m\u001b[43mhandle\u001b[49m\u001b[43m,\u001b[49m\n\u001b[1;32m    875\u001b[0m \u001b[43m            \u001b[49m\u001b[43mioargs\u001b[49m\u001b[38;5;241;43m.\u001b[39;49m\u001b[43mmode\u001b[49m\u001b[43m,\u001b[49m\n\u001b[1;32m    876\u001b[0m \u001b[43m            \u001b[49m\u001b[43mencoding\u001b[49m\u001b[38;5;241;43m=\u001b[39;49m\u001b[43mioargs\u001b[49m\u001b[38;5;241;43m.\u001b[39;49m\u001b[43mencoding\u001b[49m\u001b[43m,\u001b[49m\n\u001b[1;32m    877\u001b[0m \u001b[43m            \u001b[49m\u001b[43merrors\u001b[49m\u001b[38;5;241;43m=\u001b[39;49m\u001b[43merrors\u001b[49m\u001b[43m,\u001b[49m\n\u001b[1;32m    878\u001b[0m \u001b[43m            \u001b[49m\u001b[43mnewline\u001b[49m\u001b[38;5;241;43m=\u001b[39;49m\u001b[38;5;124;43m\"\u001b[39;49m\u001b[38;5;124;43m\"\u001b[39;49m\u001b[43m,\u001b[49m\n\u001b[1;32m    879\u001b[0m \u001b[43m        \u001b[49m\u001b[43m)\u001b[49m\n\u001b[1;32m    880\u001b[0m     \u001b[38;5;28;01melse\u001b[39;00m:\n\u001b[1;32m    881\u001b[0m         \u001b[38;5;66;03m# Binary mode\u001b[39;00m\n\u001b[1;32m    882\u001b[0m         handle \u001b[38;5;241m=\u001b[39m \u001b[38;5;28mopen\u001b[39m(handle, ioargs\u001b[38;5;241m.\u001b[39mmode)\n",
      "\u001b[0;31mFileNotFoundError\u001b[0m: [Errno 2] No such file or directory: '/workspaces/myfolder/Academic_ViyaWorkbench/data/2021  GCP Statistical Area 2 for AUS/2021_G02_AUST_SA2.csv'"
     ]
    }
   ],
   "source": [
    "# Import data\n",
    "\n",
    "# Call csv file by name\n",
    "g02 = pd.read_csv(\"/workspaces/myfolder/Academic_ViyaWorkbench/data/2021  GCP Statistical Area 2 for AUS/2021_G02_AUST_SA2.csv\")\n",
    "g33 = pd.read_csv(\"/workspaces/myfolder/Academic_ViyaWorkbench/data/2021  GCP Statistical Area 2 for AUS/2021_G33_AUST_SA2.csv\")\n",
    "g34 = pd.read_csv(\"/workspaces/myfolder/Academic_ViyaWorkbench/data/2021  GCP Statistical Area 2 for AUS/2021_G34_AUST_SA2.csv\")\n",
    "g35 = pd.read_csv(\"/workspaces/myfolder/Academic_ViyaWorkbench/data/2021  GCP Statistical Area 2 for AUS/2021_G35_AUST_SA2.csv\")\n",
    "g38 = pd.read_csv(\"/workspaces/myfolder/Academic_ViyaWorkbench/data/2021  GCP Statistical Area 2 for AUS/2021_G38_AUST_SA2.csv\")\n",
    "\n",
    "# Store DataFrames in a dictionary\n",
    "gcp = {\n",
    "    'g02': g02,\n",
    "    'g33': g33,\n",
    "    'g34': g34,\n",
    "    'g35': g35,\n",
    "    'g38': g38\n",
    "}"
   ]
  },
  {
   "cell_type": "markdown",
   "id": "88bc4d8c-7136-4073-851b-01658f69cfcb",
   "metadata": {},
   "source": [
    "## Exploratory Data Analysis"
   ]
  },
  {
   "cell_type": "markdown",
   "id": "54f8be48-f133-4065-868c-e7b94bf6efe2",
   "metadata": {},
   "source": [
    "Exploratory data analysis (EDA) is crucial in data science projects because it helps us understand the structure and characteristics of the data we're working with. By exploring variables, identifying patterns, detecting anomalies, and visualizing relationships, EDA enables us to make informed decisions about data preprocessing, feature engineering, and model selection. It also plays a key role in uncovering insights and formulating hypotheses, laying the groundwork for more accurate modeling and impactful conclusions."
   ]
  },
  {
   "cell_type": "markdown",
   "id": "0ce284b8-4bc7-4763-be76-d559eb12c2dc",
   "metadata": {},
   "source": [
    "### Dataset Characteristics"
   ]
  },
  {
   "cell_type": "code",
   "execution_count": 3,
   "id": "4c6d1286-5b5d-4a11-9af6-3661890f0251",
   "metadata": {},
   "outputs": [],
   "source": [
    "# Function for dataset characteristics\n",
    "def shape_column(df_name, df):\n",
    "    # Show dimension and column names of our data\n",
    "    shape_info = f\"DataFrame Name: {df_name}\\nShape: {df.shape}\\nColumn names: {df.columns.tolist()}\\n\"\n",
    "    return print(shape_info)"
   ]
  },
  {
   "cell_type": "code",
   "execution_count": 4,
   "id": "8523ce20-55eb-4dc9-a36e-dfc13bb5babb",
   "metadata": {},
   "outputs": [
    {
     "name": "stdout",
     "output_type": "stream",
     "text": [
      "DataFrame Name: g02\n",
      "Shape: (2472, 9)\n",
      "Column names: ['SA2_CODE_2021', 'Median_age_persons', 'Median_mortgage_repay_monthly', 'Median_tot_prsnl_inc_weekly', 'Median_rent_weekly', 'Median_tot_fam_inc_weekly', 'Average_num_psns_per_bedroom', 'Median_tot_hhd_inc_weekly', 'Average_household_size']\n",
      "\n",
      "DataFrame Name: g33\n",
      "Shape: (2472, 61)\n",
      "Column names: ['SA2_CODE_2021', 'Neg_Nil_inc_fam_households', 'Neg_Nil_inc_Non_fam_househlds', 'Negative_Nil_income_Tot', 'HI_1_149_Family_households', 'HI_1_149_Non_family_hseholds', 'HI_1_149_Tot', 'HI_150_299_Family_households', 'HI_150_299_Non_fam_househlds', 'HI_150_299_Tot', 'HI_300_399_Family_households', 'HI_300_399_Non_fam_househlds', 'HI_300_399_Tot', 'HI_400_499_Family_households', 'HI_400_499_Non_fam_househlds', 'HI_400_499_Tot', 'HI_500_649_Family_households', 'HI_500_649_Non_fam_househlds', 'HI_500_649_Tot', 'HI_650_799_Family_households', 'HI_650_799_Non_fam_househlds', 'HI_650_799_Tot', 'HI_800_999_Fam_households', 'HI_800_999_Non_fam_hsehlds', 'HI_800_999_Tot', 'HI_1000_1249_Fam_households', 'HI_1000_1249_Non_fam_hsehlds', 'HI_1000_1249_Tot', 'HI_1250_1499_Fam_households', 'HI_1250_1499_Non_fam_hsehlds', 'HI_1250_1499_Tot', 'HI_1500_1749_Fam_households', 'HI_1500_1749_Non_fam_hsehlds', 'HI_1500_1749_Tot', 'HI_1750_1999_Fam_households', 'HI_1750_1999_Non_fam_hsehlds', 'HI_1750_1999_Tot', 'HI_2000_2499_Fam_households', 'HI_2000_2499_Non_fam_hsehlds', 'HI_2000_2499_Tot', 'HI_2500_2999_Fam_households', 'HI_2500_2999_Non_fam_hsehlds', 'HI_2500_2999_Tot', 'HI_3000_3499_Fam_households', 'HI_3000_3499_Non_fam_hsehlds', 'HI_3000_3499_Tot', 'HI_3500_3999_Fam_households', 'HI_3500_3999_Non_fam_hsehlds', 'HI_3500_3999_Tot', 'HI_4000_more_Fam_households', 'HI_4000_more_Non_fam_hsehlds', 'HI_4000_more_Tot', 'Part_inc_stated_Fam_household', 'Part_inc_std_Non_fam_hhds', 'Partial_income_stated_Tot', 'All_incomes_ns_Famly_househld', 'All_inc_ns_Non_famly_househld', 'All_incomes_not_stated_Tot', 'Tot_Family_households', 'Tot_Non_family_households', 'Tot_Tot']\n",
      "\n",
      "DataFrame Name: g34\n",
      "Shape: (2472, 9)\n",
      "Column names: ['SA2_CODE_2021', 'Num_MVs_per_dweling_0_MVs', 'Num_MVs_per_dweling_1_MVs', 'Num_MVs_per_dweling_2_MVs', 'Num_MVs_per_dweling_3_MVs', 'Num_MVs_per_dweling_4mo_MVs', 'Num_MVs_per_dweling_Tot', 'Num_MVs_NS', 'Total_dwelings']\n",
      "\n",
      "DataFrame Name: g35\n",
      "Shape: (2472, 22)\n",
      "Column names: ['SA2_CODE_2021', 'Num_Psns_UR_1_FamHhold', 'Num_Psns_UR_1_NonFamHhold', 'Num_Psns_UR_1_Total', 'Num_Psns_UR_2_FamHhold', 'Num_Psns_UR_2_NonFamHhold', 'Num_Psns_UR_2_Total', 'Num_Psns_UR_3_FamHhold', 'Num_Psns_UR_3_NonFamHhold', 'Num_Psns_UR_3_Total', 'Num_Psns_UR_4_FamHhold', 'Num_Psns_UR_4_NonFamHhold', 'Num_Psns_UR_4_Total', 'Num_Psns_UR_5_FamHhold', 'Num_Psns_UR_5_NonFamHhold', 'Num_Psns_UR_5_Total', 'Num_Psns_UR_6mo_FamHhold', 'Num_Psns_UR_6mo_NonFamHhold', 'Num_Psns_UR_6mo_Total', 'Total_FamHhold', 'Total_NonFamHhold', 'Total_Total']\n",
      "\n",
      "DataFrame Name: g38\n",
      "Shape: (2472, 79)\n",
      "Column names: ['SA2_CODE_2021', 'M_0_299_DS_DS_Sept_house', 'M_0_299_DS_DS_sd_row_tce_hs_t', 'M_0_299_DS_DS_Flat_apart', 'M_0_299_DS_DS_Other_dwg', 'M_0_299_DS_ns', 'M_0_299_Tot', 'M_300_449_DS_Separate_hse', 'M_300_449_DS_sd_row_tc_hse_th', 'M_300_449_DS_Flat_apart', 'M_300_449_DS_Other_dwg', 'M_300_449_DS_ns', 'M_300_449_Tot', 'M_450_599_DS_Separate_hse', 'M_450_599_DS_sd_row_tce_hs_th', 'M_450_599_DS_Flat_apart', 'M_450_599_DS_Other_dwg', 'M_450_599_DS_ns', 'M_450_599_Tot', 'M_600_799_DS_Separate_hse', 'M_600_799_DS_sd_row_tc_hs_th', 'M_600_799_DS_Flat_apart', 'M_600_799_DS_Other_dwg', 'M_600_799_DS_ns', 'M_600_799_Tot', 'M_800_999_DS_Separate_hse', 'M_800_999_DS_sd_row_tc_hs_th', 'M_800_999_DS_Flat_apart', 'M_800_999_DS_Other_dwg', 'M_800_999_DS_ns', 'M_800_999_Tot', 'M_1000_1399_DS_Separate_hse', 'M_1000_1399_DS_sd_rw_tc_h_th', 'M_1000_1399_DS_Flat_apart', 'M_1000_1399_DS_Other_dwg', 'M_1000_1399_DS_ns', 'M_1000_1399_Tot', 'M_1400_1799_DS_Separate_hse', 'M_1400_1799_DS_sd_rw_tc_h_th', 'M_1400_1799_DS_Flat_apart', 'M_1400_1799_DS_Other_dwg', 'M_1400_1799_DS_ns', 'M_1400_1799_Tot', 'M_1800_2399_DS_Separate_hse', 'M_1800_2399_DS_sd_rw_tc_h_th', 'M_1800_2399_DS_Flat_apart', 'M_1800_2399_DS_Other_dwg', 'M_1800_2399_DS_ns', 'M_1800_2399_Tot', 'M_2400_2999_DS_Separate_hse', 'M_2400_2999_DS_sd_rw_tc_h_th', 'M_2400_2999_DS_Flat_apart', 'M_2400_2999_DS_Other_dwg', 'M_2400_2999_DS_ns', 'M_2400_2999_Tot', 'M_3000_3999_DS_Separate_hse', 'M_3000_3999_DS_sd_rw_tc_h_th', 'M_3000_3999_DS_Flt_apart', 'M_3000_3999_DS_Other_dwg', 'M_3000_3999_DS_ns', 'M_3000_3999_Tot', 'M_4000_over_DS_Separate_hse', 'M_4000_ov_DS_sd_rw_tce_hs_th', 'M_4000_over_DS_Flat_apart', 'M_4000_over_DS_Other_dwg', 'M_4000_DS_over_ns', 'M_4000_over_Tot', 'Mort_Rpmnt_ns_DS_Separat_hs', 'Mrt_Rpmt_ns_DS_sd_rw_tc_hs_th', 'Mrt_Rpmt_ns_DS_Flat_apart', 'Mort_Rpmnt_ns_DS_Other_dwg', 'Mort_Rpmnt_ns_DS_ns', 'Mort_Rpmnt_ns_Total', 'Tot_DS_Separate_hse', 'Tot_DS_sd_row_tce_hse_thse', 'Tot_DS_Flat_apartment', 'Tot_DS_Other_dwg', 'Tot_DS_ns', 'Tot_Tot']\n",
      "\n"
     ]
    }
   ],
   "source": [
    "for df_name, df in gcp.items():\n",
    "    shape_column(df_name, df)"
   ]
  },
  {
   "cell_type": "markdown",
   "id": "cc358294-d462-41f5-bd4a-ed247b0d4852",
   "metadata": {},
   "source": [
    "<div class=\"alert alert-info\" role=\"alert\">\n",
    "Each dataset has 2472 entries but different variables. There are some overlapping variables which we can address in the data wrangling stage of this project.\n",
    "</div>"
   ]
  },
  {
   "cell_type": "markdown",
   "id": "c0fb5de3-647c-49d6-8ca3-d738a1f26d5f",
   "metadata": {},
   "source": [
    "### Visualisations"
   ]
  },
  {
   "cell_type": "markdown",
   "id": "863466b1-70ab-4c28-af60-fc1316d227da",
   "metadata": {},
   "source": [
    "Dive into each dataset to see what reationships and insight they hold."
   ]
  },
  {
   "cell_type": "markdown",
   "id": "9a87c217-a898-4bfd-8cc4-2640e0ca8f4f",
   "metadata": {},
   "source": [
    "#### Selected Medians and Averages - G02"
   ]
  },
  {
   "cell_type": "code",
   "execution_count": 43,
   "id": "cec47354-7a5e-49d1-8701-0af017a68e54",
   "metadata": {},
   "outputs": [
    {
     "data": {
      "image/png": "[encoded data removed]",
      "text/plain": [
       "<Figure size 1000x600 with 1 Axes>"
      ]
     },
     "metadata": {},
     "output_type": "display_data"
    }
   ],
   "source": [
    "# Distribution of Median Household Income\n",
    "plt.figure(figsize=(10, 6))\n",
    "sns.histplot(g02['Median_tot_hhd_inc_weekly'], kde=True, color='blue')\n",
    "plt.title('Distribution of Median Household Income (Weekly)')\n",
    "plt.xlabel('Median Household Income (Weekly)')\n",
    "plt.ylabel('Frequency')\n",
    "plt.show()\n"
   ]
  },
  {
   "cell_type": "markdown",
   "id": "7e644710-4a33-4d95-be7a-62a21fb89031",
   "metadata": {},
   "source": [
    "<div class=\"alert alert-info\" role=\"alert\">\n",
    "    These distribution graphs are able to highlight some very important insight given from the data. Median Household Income concentrates between 1000-2500 AUD, which is a wide range. It is important to mention that there are households that are zero. The disparity is shown in the slight uptick in households making 7000 AUD weekly. As we dive into our investigation and modelling, we choose to keep geographic areas together to have a wholistic view/ However, another projet could dive into how location can impact the results of distributions like these.\n",
    "</div>"
   ]
  },
  {
   "cell_type": "code",
   "execution_count": 42,
   "id": "a2c480d7-e275-43a0-ae57-36d09835fdc3",
   "metadata": {},
   "outputs": [
    {
     "data": {
      "image/png": "[encoded data removed]",
      "text/plain": [
       "<Figure size 1000x600 with 1 Axes>"
      ]
     },
     "metadata": {},
     "output_type": "display_data"
    }
   ],
   "source": [
    "# Distribution of Median Mortgage Repayment\n",
    "plt.figure(figsize=(10, 6))\n",
    "sns.histplot(g02['Median_mortgage_repay_monthly'], kde=True, color='green')\n",
    "plt.title('Distribution of Median Mortgage Repayment (Monthly)')\n",
    "plt.xlabel('Median Mortgage Repayment (Monthly)')\n",
    "plt.ylabel('Frequency')\n",
    "plt.show()"
   ]
  },
  {
   "cell_type": "markdown",
   "id": "e6272ffc-a1ac-4473-9d29-39b03cbda30c",
   "metadata": {},
   "source": [
    "<div class=\"alert alert-info\" role=\"alert\">\n",
    "    Mortgage repayment tends to peake around 2000 AUD, similar to median weekly salary. This can tell us that a hosuehold may, on aerage, be spending 25% of their monthly income on their mortagge repayment. In further investigation, we could take a project to dive into what households actually have mortgages and are they the ones who make 2000 AUD weekly or are the households with higher income represented. \n",
    "</div>"
   ]
  },
  {
   "cell_type": "markdown",
   "id": "145b6f2c-53b6-4bcd-9fd6-14be962f159b",
   "metadata": {},
   "source": [
    "#### Total Household Income (Weekly) by Household Composition - G33"
   ]
  },
  {
   "cell_type": "code",
   "execution_count": 7,
   "id": "0b5edcb7-934d-41e2-bd3a-5e44b86f07d6",
   "metadata": {},
   "outputs": [
    {
     "data": {
      "image/png": "[encoded data removed]",
      "text/plain": [
       "<Figure size 1000x600 with 1 Axes>"
      ]
     },
     "metadata": {},
     "output_type": "display_data"
    }
   ],
   "source": [
    "# Visualizing the number of households in different income brackets (for g33 dataset)\n",
    "income_brackets = ['HI_1_149_Tot', 'HI_150_299_Tot', 'HI_300_399_Tot', 'HI_400_499_Tot', 'HI_500_649_Tot', 'HI_650_799_Tot', 'HI_800_999_Tot', 'HI_1000_1249_Tot', 'HI_1250_1499_Tot', 'HI_1500_1749_Tot', 'HI_1750_1999_Tot', 'HI_2000_2499_Tot', 'HI_2500_2999_Tot', 'HI_3000_3499_Tot', 'HI_3500_3999_Tot', 'HI_4000_more_Tot']  # Example income brackets\n",
    "income_data = g33[income_brackets].sum()\n",
    "\n",
    "# Bar plot to visualize income categories\n",
    "plt.figure(figsize=(10, 6))\n",
    "income_data.plot(kind='bar', color='purple')\n",
    "plt.title('Number of Households in Different Income Brackets')\n",
    "plt.xlabel('Income Bracket')\n",
    "plt.ylabel('Number of Households')\n",
    "plt.xticks(rotation=45)\n",
    "plt.show()\n"
   ]
  },
  {
   "cell_type": "markdown",
   "id": "db59253b-fc12-49ea-937f-7afc34263410",
   "metadata": {},
   "source": [
    "<div class=\"alert alert-info\" role=\"alert\">\n",
    "    In the distribution of income brackets, we are able to notice two peaks towards the higher end of the income brackets. This indicates that using the mean income may not be the ideal metric to use for any further analysis but rather using the median.\n",
    "</div>"
   ]
  },
  {
   "cell_type": "markdown",
   "id": "bb480f75-ed4d-4c2f-b47f-03c0601ea237",
   "metadata": {},
   "source": [
    "#### Number of Motor Vehicles by Dwellings - G34"
   ]
  },
  {
   "cell_type": "code",
   "execution_count": 8,
   "id": "262c37ed-51cd-4a21-8c2c-831eab8179fa",
   "metadata": {},
   "outputs": [
    {
     "data": {
      "image/png": "[encoded data removed]",
      "text/plain": [
       "<Figure size 1000x600 with 1 Axes>"
      ]
     },
     "metadata": {},
     "output_type": "display_data"
    }
   ],
   "source": [
    "# 1. Plotting the distribution of dwellings based on the number of vehicles (using a stacked bar plot)\n",
    "vehicle_columns = ['Num_MVs_per_dweling_0_MVs', 'Num_MVs_per_dweling_1_MVs', \n",
    "                   'Num_MVs_per_dweling_2_MVs', 'Num_MVs_per_dweling_3_MVs', \n",
    "                   'Num_MVs_per_dweling_4mo_MVs']\n",
    "\n",
    "# Plotting the stacked bar plot for the number of motor vehicles per dwelling\n",
    "vehicle_data = g34[vehicle_columns].sum()\n",
    "\n",
    "plt.figure(figsize=(10, 6))\n",
    "vehicle_data.plot(kind='bar', stacked=True, color=['lightblue', 'lightgreen', 'lightcoral', 'lightyellow', 'lightskyblue'])\n",
    "plt.title('Total Number of Dwellings by Number of Motor Vehicles')\n",
    "plt.xlabel('Number of Motor Vehicles')\n",
    "plt.ylabel('Total Dwellings')\n",
    "plt.xticks(rotation=45)\n",
    "plt.show()\n",
    "\n"
   ]
  },
  {
   "cell_type": "markdown",
   "id": "a9486ee9-a838-4f96-84c0-83945164ab45",
   "metadata": {},
   "source": [
    "<div class=\"alert alert-info\" role=\"alert\">\n",
    "    There are close to equal amount of households that hold one or two vehicles. If we were looking to segment our population, we could incirporate labels for no car, 1-2 car, and 3-4 car to increase simplicity.\n",
    "</div>"
   ]
  },
  {
   "cell_type": "markdown",
   "id": "aa423b56-fad2-4a2a-a9ea-743ee365d6e8",
   "metadata": {},
   "source": [
    "## Data Transformation\n",
    "We are able to take the insight we took from our exploratory visualisations, as well as project goals, to wrangle our data to prepare it for modelling. In this case, we will select relevant variables, concatenate our dtaat into one dataframe, and ensure this happened correctly."
   ]
  },
  {
   "cell_type": "markdown",
   "id": "fe9caacd-e492-4739-81bf-cfea9e6cf71b",
   "metadata": {
    "jp-MarkdownHeadingCollapsed": true
   },
   "source": [
    "### Variable Selection"
   ]
  },
  {
   "cell_type": "code",
   "execution_count": 9,
   "id": "24289afd-701a-4a15-922c-96f3b9cd1511",
   "metadata": {},
   "outputs": [
    {
     "data": {
      "text/plain": [
       "['SA2_CODE_2021',\n",
       " 'Median_age_persons',\n",
       " 'Median_rent_weekly',\n",
       " 'Average_num_psns_per_bedroom',\n",
       " 'Average_household_size']"
      ]
     },
     "execution_count": 9,
     "metadata": {},
     "output_type": "execute_result"
    }
   ],
   "source": [
    "# Select columns in g02\n",
    "# removing medians of variables explained in other df\n",
    "g02_filtered =  g02.drop(columns=['Median_mortgage_repay_monthly',\n",
    "                                 'Median_tot_prsnl_inc_weekly', \n",
    "                                 'Median_tot_fam_inc_weekly', \n",
    "                                 'Median_tot_hhd_inc_weekly'])\n",
    "\n",
    "g02_filtered.columns.tolist()"
   ]
  },
  {
   "cell_type": "code",
   "execution_count": 10,
   "id": "245f367f-530e-4557-b075-682ab7b264e1",
   "metadata": {},
   "outputs": [
    {
     "data": {
      "text/plain": [
       "['SA2_CODE_2021',\n",
       " 'HI_1_149_Tot',\n",
       " 'HI_150_299_Tot',\n",
       " 'HI_300_399_Tot',\n",
       " 'HI_400_499_Tot',\n",
       " 'HI_500_649_Tot',\n",
       " 'HI_650_799_Tot',\n",
       " 'HI_800_999_Tot',\n",
       " 'HI_1000_1249_Tot',\n",
       " 'HI_1250_1499_Tot',\n",
       " 'HI_1500_1749_Tot',\n",
       " 'HI_1750_1999_Tot',\n",
       " 'HI_2000_2499_Tot',\n",
       " 'HI_2500_2999_Tot',\n",
       " 'HI_3000_3499_Tot',\n",
       " 'HI_3500_3999_Tot',\n",
       " 'HI_4000_more_Tot']"
      ]
     },
     "execution_count": 10,
     "metadata": {},
     "output_type": "execute_result"
    }
   ],
   "source": [
    "# Select columns in g33\n",
    "# Select columns that contain both \"HI_\" and \"_Tot\"\n",
    "g33_col_mask = g33.columns[g33.columns.str.contains(\"HI_\") & g33.columns.str.contains(\"_Tot\")]\n",
    "\n",
    "# Append the column name 'SA2_CODE_2021' to the list\n",
    "g33_col_mask = g33_col_mask.insert(0, 'SA2_CODE_2021')\n",
    "\n",
    "g33_filtered = g33[g33_col_mask]\n",
    "\n",
    "g33_filtered.columns.tolist()"
   ]
  },
  {
   "cell_type": "code",
   "execution_count": 11,
   "id": "bc5001e8-2de6-4919-a443-e399630306fe",
   "metadata": {},
   "outputs": [
    {
     "data": {
      "text/plain": [
       "['SA2_CODE_2021',\n",
       " 'Num_MVs_per_dweling_0_MVs',\n",
       " 'Num_MVs_per_dweling_1_MVs',\n",
       " 'Num_MVs_per_dweling_2_MVs',\n",
       " 'Num_MVs_per_dweling_3_MVs',\n",
       " 'Num_MVs_per_dweling_4mo_MVs']"
      ]
     },
     "execution_count": 11,
     "metadata": {},
     "output_type": "execute_result"
    }
   ],
   "source": [
    "# Select columns in g34\n",
    "# drop total and not stated households\n",
    "g34_filtered = g34.drop(columns=['Num_MVs_per_dweling_Tot', \n",
    "                                 'Num_MVs_NS', \n",
    "                                 'Total_dwelings'])\n",
    "\n",
    "g34_filtered.columns.tolist()"
   ]
  },
  {
   "cell_type": "code",
   "execution_count": 12,
   "id": "cb5a19c6-45bd-4684-9c61-730b1aa1ae43",
   "metadata": {},
   "outputs": [
    {
     "data": {
      "text/plain": [
       "['SA2_CODE_2021',\n",
       " 'Num_Psns_UR_1_Total',\n",
       " 'Num_Psns_UR_2_Total',\n",
       " 'Num_Psns_UR_3_Total',\n",
       " 'Num_Psns_UR_4_Total',\n",
       " 'Num_Psns_UR_5_Total',\n",
       " 'Num_Psns_UR_6mo_Total']"
      ]
     },
     "execution_count": 12,
     "metadata": {},
     "output_type": "execute_result"
    }
   ],
   "source": [
    "# Select columns in g35\n",
    "# Select columns that contain \"_Total\"\n",
    "g35_col_mask = g35.columns[g35.columns.str.contains(\"_Total\")]\n",
    "\n",
    "# drop the last Total column\n",
    "g35_col_mask = g35_col_mask.drop('Total_Total')\n",
    "\n",
    "# Append the column name 'SA2_CODE_2021' to the list\n",
    "g35_col_mask = g35_col_mask.insert(0, 'SA2_CODE_2021')\n",
    "\n",
    "# Apply filtering mask\n",
    "g35_filtered = g35[g35_col_mask]\n",
    "\n",
    "g35_filtered.columns.tolist()"
   ]
  },
  {
   "cell_type": "code",
   "execution_count": 13,
   "id": "80756f29-a631-4a3d-8c43-e8f31171df07",
   "metadata": {},
   "outputs": [
    {
     "data": {
      "text/plain": [
       "['SA2_CODE_2021',\n",
       " 'M_0_299_Tot',\n",
       " 'M_300_449_Tot',\n",
       " 'M_450_599_Tot',\n",
       " 'M_600_799_Tot',\n",
       " 'M_800_999_Tot',\n",
       " 'M_1000_1399_Tot',\n",
       " 'M_1400_1799_Tot',\n",
       " 'M_1800_2399_Tot',\n",
       " 'M_2400_2999_Tot',\n",
       " 'M_3000_3999_Tot',\n",
       " 'M_4000_over_Tot']"
      ]
     },
     "execution_count": 13,
     "metadata": {},
     "output_type": "execute_result"
    }
   ],
   "source": [
    "# Select columns in g38\n",
    "# Select columns that contain both \"M_\" and \"_Tot\"\n",
    "g38_col_mask = g38.columns[g38.columns.str.contains(\"M_\") & g38.columns.str.contains(\"_Tot\")]\n",
    "\n",
    "# Append the column name 'SA2_CODE_2021' to the list\n",
    "g38_col_mask = g38_col_mask.insert(0, 'SA2_CODE_2021')\n",
    "\n",
    "# Apply filtering mask\n",
    "g38_filtered = g38[g38_col_mask]\n",
    "\n",
    "g38_filtered.columns.tolist()"
   ]
  },
  {
   "cell_type": "markdown",
   "id": "1611293d-07ba-4dcd-bbb5-d4b710ebfdd6",
   "metadata": {
    "jp-MarkdownHeadingCollapsed": true
   },
   "source": [
    "### Joining dataframes"
   ]
  },
  {
   "cell_type": "code",
   "execution_count": 14,
   "id": "9f6c4161-4dcd-4a69-9457-259382e4591a",
   "metadata": {},
   "outputs": [
    {
     "data": {
      "text/plain": [
       "(2472, 43)"
      ]
     },
     "execution_count": 14,
     "metadata": {},
     "output_type": "execute_result"
    }
   ],
   "source": [
    "def merge_dataframes(dataframes, common_column):\n",
    "    # Start with the first DataFrame\n",
    "    merged_df = dataframes[0]\n",
    "\n",
    "    # Iteratively merge the remaining DataFrames\n",
    "    for df in dataframes[1:]:\n",
    "        merged_df = merged_df.merge(df, on=common_column, how='inner')\n",
    "\n",
    "    return merged_df\n",
    "\n",
    "# Merging filtered df\n",
    "_joined = merge_dataframes([g02_filtered, g33_filtered, g34_filtered, g35_filtered, g38_filtered], 'SA2_CODE_2021')\n",
    "_joined.shape"
   ]
  },
  {
   "cell_type": "markdown",
   "id": "f9d6fa53-6c0f-4f7a-ac8a-00f5483b046b",
   "metadata": {},
   "source": [
    "### Final data EDA"
   ]
  },
  {
   "cell_type": "code",
   "execution_count": 15,
   "id": "47ad7ab5-9f2d-429b-8152-2fdaaa091d73",
   "metadata": {},
   "outputs": [
    {
     "data": {
      "text/plain": [
       "SA2_CODE_2021                     int64\n",
       "Median_age_persons                int64\n",
       "Median_rent_weekly                int64\n",
       "Average_num_psns_per_bedroom    float64\n",
       "Average_household_size          float64\n",
       "HI_1_149_Tot                      int64\n",
       "HI_150_299_Tot                    int64\n",
       "HI_300_399_Tot                    int64\n",
       "HI_400_499_Tot                    int64\n",
       "HI_500_649_Tot                    int64\n",
       "HI_650_799_Tot                    int64\n",
       "HI_800_999_Tot                    int64\n",
       "HI_1000_1249_Tot                  int64\n",
       "HI_1250_1499_Tot                  int64\n",
       "HI_1500_1749_Tot                  int64\n",
       "HI_1750_1999_Tot                  int64\n",
       "HI_2000_2499_Tot                  int64\n",
       "HI_2500_2999_Tot                  int64\n",
       "HI_3000_3499_Tot                  int64\n",
       "HI_3500_3999_Tot                  int64\n",
       "HI_4000_more_Tot                  int64\n",
       "Num_MVs_per_dweling_0_MVs         int64\n",
       "Num_MVs_per_dweling_1_MVs         int64\n",
       "Num_MVs_per_dweling_2_MVs         int64\n",
       "Num_MVs_per_dweling_3_MVs         int64\n",
       "Num_MVs_per_dweling_4mo_MVs       int64\n",
       "Num_Psns_UR_1_Total               int64\n",
       "Num_Psns_UR_2_Total               int64\n",
       "Num_Psns_UR_3_Total               int64\n",
       "Num_Psns_UR_4_Total               int64\n",
       "Num_Psns_UR_5_Total               int64\n",
       "Num_Psns_UR_6mo_Total             int64\n",
       "M_0_299_Tot                       int64\n",
       "M_300_449_Tot                     int64\n",
       "M_450_599_Tot                     int64\n",
       "M_600_799_Tot                     int64\n",
       "M_800_999_Tot                     int64\n",
       "M_1000_1399_Tot                   int64\n",
       "M_1400_1799_Tot                   int64\n",
       "M_1800_2399_Tot                   int64\n",
       "M_2400_2999_Tot                   int64\n",
       "M_3000_3999_Tot                   int64\n",
       "M_4000_over_Tot                   int64\n",
       "dtype: object"
      ]
     },
     "execution_count": 15,
     "metadata": {},
     "output_type": "execute_result"
    }
   ],
   "source": [
    "_joined.dtypes"
   ]
  },
  {
   "cell_type": "code",
   "execution_count": 16,
   "id": "d4c80626-197b-4930-b413-52903de9b192",
   "metadata": {},
   "outputs": [
    {
     "data": {
      "text/plain": [
       "SA2_CODE_2021                   0\n",
       "Median_age_persons              0\n",
       "Median_rent_weekly              0\n",
       "Average_num_psns_per_bedroom    0\n",
       "Average_household_size          0\n",
       "HI_1_149_Tot                    0\n",
       "HI_150_299_Tot                  0\n",
       "HI_300_399_Tot                  0\n",
       "HI_400_499_Tot                  0\n",
       "HI_500_649_Tot                  0\n",
       "HI_650_799_Tot                  0\n",
       "HI_800_999_Tot                  0\n",
       "HI_1000_1249_Tot                0\n",
       "HI_1250_1499_Tot                0\n",
       "HI_1500_1749_Tot                0\n",
       "HI_1750_1999_Tot                0\n",
       "HI_2000_2499_Tot                0\n",
       "HI_2500_2999_Tot                0\n",
       "HI_3000_3499_Tot                0\n",
       "HI_3500_3999_Tot                0\n",
       "HI_4000_more_Tot                0\n",
       "Num_MVs_per_dweling_0_MVs       0\n",
       "Num_MVs_per_dweling_1_MVs       0\n",
       "Num_MVs_per_dweling_2_MVs       0\n",
       "Num_MVs_per_dweling_3_MVs       0\n",
       "Num_MVs_per_dweling_4mo_MVs     0\n",
       "Num_Psns_UR_1_Total             0\n",
       "Num_Psns_UR_2_Total             0\n",
       "Num_Psns_UR_3_Total             0\n",
       "Num_Psns_UR_4_Total             0\n",
       "Num_Psns_UR_5_Total             0\n",
       "Num_Psns_UR_6mo_Total           0\n",
       "M_0_299_Tot                     0\n",
       "M_300_449_Tot                   0\n",
       "M_450_599_Tot                   0\n",
       "M_600_799_Tot                   0\n",
       "M_800_999_Tot                   0\n",
       "M_1000_1399_Tot                 0\n",
       "M_1400_1799_Tot                 0\n",
       "M_1800_2399_Tot                 0\n",
       "M_2400_2999_Tot                 0\n",
       "M_3000_3999_Tot                 0\n",
       "M_4000_over_Tot                 0\n",
       "dtype: int64"
      ]
     },
     "execution_count": 16,
     "metadata": {},
     "output_type": "execute_result"
    }
   ],
   "source": [
    "_joined.isna().sum()"
   ]
  },
  {
   "cell_type": "markdown",
   "id": "973e2b9f-fda3-4005-af0a-3ef898df92e1",
   "metadata": {},
   "source": [
    "## Modelling"
   ]
  },
  {
   "cell_type": "markdown",
   "id": "e45f80ba-6e2a-4f8d-b887-a40c303845cf",
   "metadata": {},
   "source": [
    "In this project, we are modelling to predict the number of low income households specifically within those who make 300-3999 AUD weekly. "
   ]
  },
  {
   "cell_type": "code",
   "execution_count": 17,
   "id": "6839deed-3722-4530-871f-ed07bd1e2042",
   "metadata": {},
   "outputs": [],
   "source": [
    "from sklearn.model_selection import train_test_split\n",
    "from sklearn.preprocessing import StandardScaler\n",
    "#!pip install xgboost\n",
    "from xgboost import XGBRegressor\n",
    "from sklearn.ensemble import RandomForestRegressor, GradientBoostingRegressor\n",
    "from sklearn.linear_model import ElasticNet\n",
    "from sklearn.svm import SVR\n",
    "from sklearn.metrics import mean_squared_error, r2_score\n",
    "#import statsmodels.api as sm\n",
    "import matplotlib.pyplot as plt\n",
    "\n",
    "from sklearn.pipeline import Pipeline\n",
    "from sklearn.metrics import mean_absolute_error, mean_squared_error, r2_score\n",
    "import time\n",
    "from sklearn.model_selection import GridSearchCV"
   ]
  },
  {
   "cell_type": "code",
   "execution_count": 18,
   "id": "58f63b3f-ff3a-4ea3-9ef3-ce17e98b8f71",
   "metadata": {},
   "outputs": [],
   "source": [
    "# Prepare features and target\n",
    "def prepare_features(df, target):\n",
    "    features = df.columns.drop(target)\n",
    "    X = df[features]\n",
    "    y = df[target]\n",
    "    return X, y"
   ]
  },
  {
   "cell_type": "code",
   "execution_count": 19,
   "id": "a72d056f-7acc-49f3-83fe-43ee3052f728",
   "metadata": {},
   "outputs": [
    {
     "data": {
      "text/plain": [
       "Index(['SA2_CODE_2021', 'Median_age_persons', 'Median_rent_weekly',\n",
       "       'Average_num_psns_per_bedroom', 'Average_household_size',\n",
       "       'HI_1_149_Tot', 'HI_150_299_Tot', 'HI_400_499_Tot', 'HI_500_649_Tot',\n",
       "       'HI_650_799_Tot', 'HI_800_999_Tot', 'HI_1000_1249_Tot',\n",
       "       'HI_1250_1499_Tot', 'HI_1500_1749_Tot', 'HI_1750_1999_Tot',\n",
       "       'HI_2000_2499_Tot', 'HI_2500_2999_Tot', 'HI_3000_3499_Tot',\n",
       "       'HI_3500_3999_Tot', 'HI_4000_more_Tot', 'Num_MVs_per_dweling_0_MVs',\n",
       "       'Num_MVs_per_dweling_1_MVs', 'Num_MVs_per_dweling_2_MVs',\n",
       "       'Num_MVs_per_dweling_3_MVs', 'Num_MVs_per_dweling_4mo_MVs',\n",
       "       'Num_Psns_UR_1_Total', 'Num_Psns_UR_2_Total', 'Num_Psns_UR_3_Total',\n",
       "       'Num_Psns_UR_4_Total', 'Num_Psns_UR_5_Total', 'Num_Psns_UR_6mo_Total',\n",
       "       'M_0_299_Tot', 'M_300_449_Tot', 'M_450_599_Tot', 'M_600_799_Tot',\n",
       "       'M_800_999_Tot', 'M_1000_1399_Tot', 'M_1400_1799_Tot',\n",
       "       'M_1800_2399_Tot', 'M_2400_2999_Tot', 'M_3000_3999_Tot',\n",
       "       'M_4000_over_Tot'],\n",
       "      dtype='object')"
      ]
     },
     "execution_count": 19,
     "metadata": {},
     "output_type": "execute_result"
    }
   ],
   "source": [
    "X, y = prepare_features(_joined, 'HI_300_399_Tot')\n",
    "X.columns"
   ]
  },
  {
   "cell_type": "markdown",
   "id": "5bcb8177-b797-493a-aac7-00292b2fd699",
   "metadata": {},
   "source": [
    "### Train/Test Split\n",
    "\n",
    "We split our dataset into training and testing splits in order to ensure our model is being trained without knowing our target variable and having all the information. This is done so the model can be more robust to unseen data, which would be new household data in our case. The testing spilt will then determine our model's performance as the predicted values of our target variable are then compared to actual results.\n"
   ]
  },
  {
   "cell_type": "code",
   "execution_count": 20,
   "id": "74358aa7-766e-41e4-a2ad-369de723e575",
   "metadata": {},
   "outputs": [
    {
     "name": "stdout",
     "output_type": "stream",
     "text": [
      "Training data shape: (1977, 42) \n",
      "Validation data shape: (495, 42)\n"
     ]
    }
   ],
   "source": [
    "X_train, X_test, y_train, y_test = train_test_split(X, y, test_size=0.2, random_state=42)\n",
    "print(\"Training data shape:\", X_train.shape, \"\\n\" + \"Validation data shape:\", X_test.shape)"
   ]
  },
  {
   "cell_type": "markdown",
   "id": "8a519a1f-8687-48f9-b06e-c5b00ea8b744",
   "metadata": {},
   "source": [
    "### Model Pipeline"
   ]
  },
  {
   "cell_type": "markdown",
   "id": "9d0e1b0f-98c7-4364-88f7-3b612f852a13",
   "metadata": {},
   "source": [
    "Let us made the modelling process more intiutive by creating a function that brings in any necesary parameters for modelling. It will evaluate our models as well. This pipeline will work for open-source and SAS models."
   ]
  },
  {
   "cell_type": "code",
   "execution_count": 21,
   "id": "9b686349-8d15-4fde-baa6-d02e155ab02f",
   "metadata": {},
   "outputs": [],
   "source": [
    "def create_and_evaluate_pipeline(X_train, X_test, y_train, y_test, regressor):\n",
    "    # Create the pipeline with the specified regressor\n",
    "    pipeline = Pipeline([\n",
    "        ('scaler', StandardScaler()),  # Standardizing the data\n",
    "        ('regressor', regressor)        # The regressor passed as an argument\n",
    "    ])\n",
    "\n",
    "    # Start the timer\n",
    "    start_time = time.time()\n",
    "\n",
    "    # Fit the model\n",
    "    pipeline.fit(X_train, y_train)\n",
    "\n",
    "    # Stop the timer\n",
    "    end_time = time.time()\n",
    "    elapsed_time = end_time - start_time\n",
    "\n",
    "    # Make predictions\n",
    "    y_pred = pipeline.predict(X_test)\n",
    "\n",
    "    # Evaluate the model\n",
    "    mae = mean_absolute_error(y_test, y_pred)\n",
    "    mse = mean_squared_error(y_test, y_pred)\n",
    "    r2 = r2_score(y_test, y_pred)\n",
    "\n",
    "    # Display evaluation metrics\n",
    "    print(f\"Regressor: {regressor.__class__.__name__}\")\n",
    "    print(f\"Mean Absolute Error: {mae:.2f}\")\n",
    "    print(f\"Mean Squared Error: {mse:.2f}\")\n",
    "    print(f\"R² Score: {r2:.2f}\")\n",
    "    print(f\"Time elapsed: {elapsed_time:.2f} seconds\")"
   ]
  },
  {
   "cell_type": "markdown",
   "id": "8a52e0c4-765f-454b-b8a1-49d5bd656774",
   "metadata": {},
   "source": [
    "### Open-Sourced modelling packages"
   ]
  },
  {
   "cell_type": "code",
   "execution_count": 22,
   "id": "188df2bb-0a4a-45b6-b2ef-2f700e4e7d9c",
   "metadata": {},
   "outputs": [
    {
     "name": "stdout",
     "output_type": "stream",
     "text": [
      "Regressor: RandomForestRegressor\n",
      "Mean Absolute Error: 10.76\n",
      "Mean Squared Error: 258.35\n",
      "R² Score: 0.94\n",
      "Time elapsed: 4.05 seconds\n",
      "Regressor: GradientBoostingRegressor\n",
      "Mean Absolute Error: 10.49\n",
      "Mean Squared Error: 234.26\n",
      "R² Score: 0.95\n",
      "Time elapsed: 1.48 seconds\n",
      "Regressor: ElasticNet\n",
      "Mean Absolute Error: 13.29\n",
      "Mean Squared Error: 414.19\n",
      "R² Score: 0.91\n",
      "Time elapsed: 0.03 seconds\n",
      "Regressor: SVR\n",
      "Mean Absolute Error: 28.24\n",
      "Mean Squared Error: 1704.91\n",
      "R² Score: 0.61\n",
      "Time elapsed: 0.21 seconds\n",
      "Regressor: XGBRegressor\n",
      "Mean Absolute Error: 10.34\n",
      "Mean Squared Error: 230.17\n",
      "R² Score: 0.95\n",
      "Time elapsed: 0.14 seconds\n"
     ]
    }
   ],
   "source": [
    "# To use the function with different regressors:\n",
    "create_and_evaluate_pipeline(X_train, X_test, y_train, y_test, \n",
    "                             RandomForestRegressor(n_estimators=100, random_state=42))\n",
    "create_and_evaluate_pipeline(X_train, X_test, y_train, y_test, \n",
    "                             GradientBoostingRegressor(n_estimators=100, learning_rate=0.1, max_depth=3, random_state=42))\n",
    "create_and_evaluate_pipeline(X_train, X_test, y_train, y_test, \n",
    "                             ElasticNet(alpha=1.0, l1_ratio=0.5, random_state=42))\n",
    "create_and_evaluate_pipeline(X_train, X_test, y_train, y_test, \n",
    "                             SVR(kernel='poly', C=1.0, epsilon=0.1))\n",
    "create_and_evaluate_pipeline(X_train, X_test, y_train, y_test, \n",
    "                             XGBRegressor(n_estimators=100, learning_rate=0.1, max_depth=3, random_state=42))"
   ]
  },
  {
   "cell_type": "markdown",
   "id": "f39be3f7-9050-408d-8a39-8c77e32c89aa",
   "metadata": {},
   "source": [
    "<div class=\"alert alert-info\" role=\"alert\">\n",
    "Our best open source model is XGBRegressor (Extreme Gradient Boosting)!\n",
    "</div>"
   ]
  },
  {
   "cell_type": "markdown",
   "id": "81121887-7838-49b8-aedc-cc84444b469d",
   "metadata": {},
   "source": [
    "### SAS ML models\n",
    "\n",
    "SAS has released a proprietary Python package named sasviya.ml that contains optimized SAS machine learning algorithms designed to run in SAS Viya Workbench.\n",
    "\n",
    "https://go.documentation.sas.com/doc/en/workbenchcdc/v_001/explore/titlepage.htm"
   ]
  },
  {
   "cell_type": "code",
   "execution_count": 23,
   "id": "c4758470-3911-4879-af28-1a7fa427fe85",
   "metadata": {},
   "outputs": [],
   "source": [
    "#fit a random forest model\n",
    "from sasviya.ml.tree import ForestRegressor as sas_ForestRegressor\n",
    "from sasviya.ml.tree import GradientBoostingRegressor as sas_GradientBoostingRegressor\n",
    "from sasviya.ml.linear_model import ElasticNet as sas_ElasticNet\n",
    "from sasviya.ml.svm import SVR as sas_SVR\n",
    "from sasviya.ml.decomposition import PCA as sas_PCA"
   ]
  },
  {
   "cell_type": "code",
   "execution_count": 24,
   "id": "fa21d0de-afc5-4bdb-a0b8-12ce39e701c9",
   "metadata": {},
   "outputs": [
    {
     "name": "stdout",
     "output_type": "stream",
     "text": [
      "Regressor: ForestRegressor\n",
      "Mean Absolute Error: 11.39\n",
      "Mean Squared Error: 367.70\n",
      "R² Score: 0.92\n",
      "Time elapsed: 0.69 seconds\n",
      "Regressor: GradientBoostingRegressor\n",
      "Mean Absolute Error: 10.23\n",
      "Mean Squared Error: 232.50\n",
      "R² Score: 0.95\n",
      "Time elapsed: 0.23 seconds\n",
      "Regressor: ElasticNet\n",
      "Mean Absolute Error: 13.29\n",
      "Mean Squared Error: 414.27\n",
      "R² Score: 0.91\n",
      "Time elapsed: 0.16 seconds\n",
      "Regressor: SVR\n",
      "Mean Absolute Error: 9.91\n",
      "Mean Squared Error: 208.36\n",
      "R² Score: 0.95\n",
      "Time elapsed: 0.62 seconds\n"
     ]
    }
   ],
   "source": [
    "create_and_evaluate_pipeline(X_train, X_test, y_train, y_test, \n",
    "                             sas_ForestRegressor(n_estimators=100, random_state=42))\n",
    "create_and_evaluate_pipeline(X_train, X_test, y_train, y_test, \n",
    "                             sas_GradientBoostingRegressor(n_estimators=100, learning_rate=0.1, max_depth=3, random_state=42))\n",
    "create_and_evaluate_pipeline(X_train, X_test, y_train, y_test, \n",
    "                             sas_ElasticNet(alpha=1.0, l1_ratio=0.5)) # no random_state parameter\n",
    "create_and_evaluate_pipeline(X_train, X_test, y_train, y_test, \n",
    "                             sas_SVR(kernel='poly', C=1.0, epsilon=0.1))"
   ]
  },
  {
   "cell_type": "markdown",
   "id": "68bcdb50-d61c-4bfd-84e1-d765056a3de2",
   "metadata": {},
   "source": [
    "<div class=\"alert alert-info\" role=\"alert\">\n",
    "Our best SAS model is SVR (Support Vector Regression)!\n",
    "</div>"
   ]
  },
  {
   "cell_type": "markdown",
   "id": "a1f0bb55-cf75-4133-ba92-96496031fe48",
   "metadata": {},
   "source": [
    "## Model Tuning"
   ]
  },
  {
   "cell_type": "markdown",
   "id": "c9e2b3de-f3f9-4643-bc08-e49618016c17",
   "metadata": {},
   "source": [
    "Also known as hyperparameter tuning. This step will ensure we have the best parameters set for our model by test and evaluting a set of parameters. "
   ]
  },
  {
   "cell_type": "markdown",
   "id": "3bbebdb1-365b-4d93-a71a-850860b71079",
   "metadata": {},
   "source": [
    "### Open Source"
   ]
  },
  {
   "cell_type": "code",
   "execution_count": 25,
   "id": "77187d08-e740-4156-b638-8c61320fc3ca",
   "metadata": {},
   "outputs": [
    {
     "name": "stdout",
     "output_type": "stream",
     "text": [
      "Fitting 3 folds for each of 72 candidates, totalling 216 fits\n",
      "Best parameters: {'regressor__colsample_bytree': 1.0, 'regressor__learning_rate': 0.1, 'regressor__max_depth': 3, 'regressor__n_estimators': 100, 'regressor__subsample': 0.8}\n",
      "Best cross-validation score (neg MSE): -200.58361522627115\n"
     ]
    }
   ],
   "source": [
    "## Open source champion tuning\n",
    "# Define the model\n",
    "xgb = XGBRegressor(random_state=42)\n",
    "\n",
    "# Set up the parameter grid\n",
    "param_grid = {\n",
    "    'regressor__n_estimators': [100, 200],\n",
    "    'regressor__learning_rate': [0.01, 0.1, 0.2],\n",
    "    'regressor__max_depth': [3, 4, 5],\n",
    "    'regressor__subsample': [0.8, 1.0],\n",
    "    'regressor__colsample_bytree': [0.8, 1.0]\n",
    "}\n",
    "\n",
    "# Set up GridSearchCV\n",
    "grid_search = GridSearchCV(\n",
    "    estimator=Pipeline([\n",
    "        ('scaler', StandardScaler()),\n",
    "        ('regressor', xgb)\n",
    "    ]),\n",
    "    param_grid=param_grid,\n",
    "    scoring='neg_mean_squared_error',\n",
    "    cv=3,\n",
    "    verbose=1,\n",
    "    n_jobs=-1  # Use all available cores\n",
    ")\n",
    "\n",
    "# Fit the grid search\n",
    "grid_search.fit(X_train, y_train)\n",
    "\n",
    "# Display the best parameters and best score\n",
    "print(f\"Best parameters: {grid_search.best_params_}\")\n",
    "print(f\"Best cross-validation score (neg MSE): {grid_search.best_score_}\")"
   ]
  },
  {
   "cell_type": "code",
   "execution_count": 26,
   "id": "fced115b-35db-4cbb-acc2-5e375916f783",
   "metadata": {},
   "outputs": [
    {
     "name": "stdout",
     "output_type": "stream",
     "text": [
      "Regressor: Pipeline\n",
      "Mean Absolute Error: 10.55\n",
      "Mean Squared Error: 231.63\n",
      "R² Score: 0.95\n",
      "Time elapsed: 0.10 seconds\n"
     ]
    }
   ],
   "source": [
    "create_and_evaluate_pipeline(X_train, X_test, y_train, y_test, \n",
    "                             grid_search.best_estimator_)"
   ]
  },
  {
   "cell_type": "markdown",
   "id": "edd3ebfb-55e8-47a7-b4f8-fc166e05a26b",
   "metadata": {},
   "source": [
    "### SAS"
   ]
  },
  {
   "cell_type": "markdown",
   "id": "dda1028c-d4f8-45c7-9ebf-38bd28b6bf1d",
   "metadata": {},
   "source": [
    "We are incorporating Principal Component Analysis (PCA) to enable our best model to have a clear selection of essential features. This means we will have two tuned models. One with and one without PCA."
   ]
  },
  {
   "cell_type": "code",
   "execution_count": 27,
   "id": "f55c9b58-43c4-4f9d-8c78-713f5877deda",
   "metadata": {},
   "outputs": [
    {
     "data": {
      "text/html": [
       "<div><b>&#167; Key</b></div>\n",
       "<div class=\"cas-results=body\">\n",
       "<div>\n",
       "<style scoped>\n",
       "    .dataframe tbody tr th:only-of-type {\n",
       "        vertical-align: middle;\n",
       "    }\n",
       "\n",
       "    .dataframe tbody tr th {\n",
       "        vertical-align: top;\n",
       "    }\n",
       "\n",
       "    .dataframe thead th {\n",
       "        text-align: right;\n",
       "    }\n",
       "</style>\n",
       "<table border=\"1\" class=\"dataframe\">\n",
       "<caption style=\"text-align: center;\">Store Key</caption>\n",
       "  <thead>\n",
       "    <tr style=\"text-align: right;\">\n",
       "      <th>Key</th>\n",
       "    </tr>\n",
       "  </thead>\n",
       "  <tbody>\n",
       "    <tr>\n",
       "      <td>DE80C7A447C37A2D2A23D212A37F67B58620316B</td>\n",
       "    </tr>\n",
       "  </tbody>\n",
       "</table>\n",
       "</div>\n",
       "</div>\n",
       "<div><hr /><b>&#167; Description</b></div>\n",
       "<div class=\"cas-results=body\">\n",
       "<div>\n",
       "<style scoped>\n",
       "    .dataframe tbody tr th:only-of-type {\n",
       "        vertical-align: middle;\n",
       "    }\n",
       "\n",
       "    .dataframe tbody tr th {\n",
       "        vertical-align: top;\n",
       "    }\n",
       "\n",
       "    .dataframe thead th {\n",
       "        text-align: right;\n",
       "    }\n",
       "</style>\n",
       "<table border=\"1\" class=\"dataframe\">\n",
       "<caption style=\"text-align: center;\">Basic Information</caption>\n",
       "  <thead>\n",
       "    <tr style=\"text-align: right;\">\n",
       "      <th>Attribute</th>\n",
       "      <th>Value</th>\n",
       "    </tr>\n",
       "  </thead>\n",
       "  <tbody>\n",
       "    <tr>\n",
       "      <td>Analytic Engine</td>\n",
       "      <td>pca</td>\n",
       "    </tr>\n",
       "    <tr>\n",
       "      <td>Time Created</td>\n",
       "      <td>02Dec2024:04:51:24</td>\n",
       "    </tr>\n",
       "  </tbody>\n",
       "</table>\n",
       "</div>\n",
       "</div>\n",
       "<div><hr /><b>&#167; InputVariables</b></div>\n",
       "<div class=\"cas-results=body\">\n",
       "<div>\n",
       "<style scoped>\n",
       "    .dataframe tbody tr th:only-of-type {\n",
       "        vertical-align: middle;\n",
       "    }\n",
       "\n",
       "    .dataframe tbody tr th {\n",
       "        vertical-align: top;\n",
       "    }\n",
       "\n",
       "    .dataframe thead th {\n",
       "        text-align: right;\n",
       "    }\n",
       "</style>\n",
       "<table border=\"1\" class=\"dataframe\">\n",
       "<caption style=\"text-align: center;\">Input Variables</caption>\n",
       "  <thead>\n",
       "    <tr style=\"text-align: right;\">\n",
       "      <th>Name</th>\n",
       "      <th>Length</th>\n",
       "      <th>Role</th>\n",
       "      <th>Type</th>\n",
       "      <th>RawType</th>\n",
       "      <th>FormatName</th>\n",
       "    </tr>\n",
       "  </thead>\n",
       "  <tbody>\n",
       "    <tr>\n",
       "      <td>SA2_CODE_2021</td>\n",
       "      <td>8.0</td>\n",
       "      <td>Input</td>\n",
       "      <td>Interval</td>\n",
       "      <td>Num</td>\n",
       "      <td></td>\n",
       "    </tr>\n",
       "    <tr>\n",
       "      <td>Median_age_persons</td>\n",
       "      <td>8.0</td>\n",
       "      <td>Input</td>\n",
       "      <td>Interval</td>\n",
       "      <td>Num</td>\n",
       "      <td></td>\n",
       "    </tr>\n",
       "    <tr>\n",
       "      <td>Median_rent_weekly</td>\n",
       "      <td>8.0</td>\n",
       "      <td>Input</td>\n",
       "      <td>Interval</td>\n",
       "      <td>Num</td>\n",
       "      <td></td>\n",
       "    </tr>\n",
       "    <tr>\n",
       "      <td>Average_num_psns_per_bedroom</td>\n",
       "      <td>8.0</td>\n",
       "      <td>Input</td>\n",
       "      <td>Interval</td>\n",
       "      <td>Num</td>\n",
       "      <td></td>\n",
       "    </tr>\n",
       "    <tr>\n",
       "      <td>Average_household_size</td>\n",
       "      <td>8.0</td>\n",
       "      <td>Input</td>\n",
       "      <td>Interval</td>\n",
       "      <td>Num</td>\n",
       "      <td></td>\n",
       "    </tr>\n",
       "    <tr>\n",
       "      <td>HI_1_149_Tot</td>\n",
       "      <td>8.0</td>\n",
       "      <td>Input</td>\n",
       "      <td>Interval</td>\n",
       "      <td>Num</td>\n",
       "      <td></td>\n",
       "    </tr>\n",
       "    <tr>\n",
       "      <td>HI_150_299_Tot</td>\n",
       "      <td>8.0</td>\n",
       "      <td>Input</td>\n",
       "      <td>Interval</td>\n",
       "      <td>Num</td>\n",
       "      <td></td>\n",
       "    </tr>\n",
       "    <tr>\n",
       "      <td>HI_400_499_Tot</td>\n",
       "      <td>8.0</td>\n",
       "      <td>Input</td>\n",
       "      <td>Interval</td>\n",
       "      <td>Num</td>\n",
       "      <td></td>\n",
       "    </tr>\n",
       "    <tr>\n",
       "      <td>HI_500_649_Tot</td>\n",
       "      <td>8.0</td>\n",
       "      <td>Input</td>\n",
       "      <td>Interval</td>\n",
       "      <td>Num</td>\n",
       "      <td></td>\n",
       "    </tr>\n",
       "    <tr>\n",
       "      <td>HI_650_799_Tot</td>\n",
       "      <td>8.0</td>\n",
       "      <td>Input</td>\n",
       "      <td>Interval</td>\n",
       "      <td>Num</td>\n",
       "      <td></td>\n",
       "    </tr>\n",
       "    <tr>\n",
       "      <td>HI_800_999_Tot</td>\n",
       "      <td>8.0</td>\n",
       "      <td>Input</td>\n",
       "      <td>Interval</td>\n",
       "      <td>Num</td>\n",
       "      <td></td>\n",
       "    </tr>\n",
       "    <tr>\n",
       "      <td>HI_1000_1249_Tot</td>\n",
       "      <td>8.0</td>\n",
       "      <td>Input</td>\n",
       "      <td>Interval</td>\n",
       "      <td>Num</td>\n",
       "      <td></td>\n",
       "    </tr>\n",
       "    <tr>\n",
       "      <td>HI_1250_1499_Tot</td>\n",
       "      <td>8.0</td>\n",
       "      <td>Input</td>\n",
       "      <td>Interval</td>\n",
       "      <td>Num</td>\n",
       "      <td></td>\n",
       "    </tr>\n",
       "    <tr>\n",
       "      <td>HI_1500_1749_Tot</td>\n",
       "      <td>8.0</td>\n",
       "      <td>Input</td>\n",
       "      <td>Interval</td>\n",
       "      <td>Num</td>\n",
       "      <td></td>\n",
       "    </tr>\n",
       "    <tr>\n",
       "      <td>HI_1750_1999_Tot</td>\n",
       "      <td>8.0</td>\n",
       "      <td>Input</td>\n",
       "      <td>Interval</td>\n",
       "      <td>Num</td>\n",
       "      <td></td>\n",
       "    </tr>\n",
       "    <tr>\n",
       "      <td>HI_2000_2499_Tot</td>\n",
       "      <td>8.0</td>\n",
       "      <td>Input</td>\n",
       "      <td>Interval</td>\n",
       "      <td>Num</td>\n",
       "      <td></td>\n",
       "    </tr>\n",
       "    <tr>\n",
       "      <td>HI_2500_2999_Tot</td>\n",
       "      <td>8.0</td>\n",
       "      <td>Input</td>\n",
       "      <td>Interval</td>\n",
       "      <td>Num</td>\n",
       "      <td></td>\n",
       "    </tr>\n",
       "    <tr>\n",
       "      <td>HI_3000_3499_Tot</td>\n",
       "      <td>8.0</td>\n",
       "      <td>Input</td>\n",
       "      <td>Interval</td>\n",
       "      <td>Num</td>\n",
       "      <td></td>\n",
       "    </tr>\n",
       "    <tr>\n",
       "      <td>HI_3500_3999_Tot</td>\n",
       "      <td>8.0</td>\n",
       "      <td>Input</td>\n",
       "      <td>Interval</td>\n",
       "      <td>Num</td>\n",
       "      <td></td>\n",
       "    </tr>\n",
       "    <tr>\n",
       "      <td>HI_4000_more_Tot</td>\n",
       "      <td>8.0</td>\n",
       "      <td>Input</td>\n",
       "      <td>Interval</td>\n",
       "      <td>Num</td>\n",
       "      <td></td>\n",
       "    </tr>\n",
       "    <tr>\n",
       "      <td>Num_MVs_per_dweling_0_MVs</td>\n",
       "      <td>8.0</td>\n",
       "      <td>Input</td>\n",
       "      <td>Interval</td>\n",
       "      <td>Num</td>\n",
       "      <td></td>\n",
       "    </tr>\n",
       "    <tr>\n",
       "      <td>Num_MVs_per_dweling_1_MVs</td>\n",
       "      <td>8.0</td>\n",
       "      <td>Input</td>\n",
       "      <td>Interval</td>\n",
       "      <td>Num</td>\n",
       "      <td></td>\n",
       "    </tr>\n",
       "    <tr>\n",
       "      <td>Num_MVs_per_dweling_2_MVs</td>\n",
       "      <td>8.0</td>\n",
       "      <td>Input</td>\n",
       "      <td>Interval</td>\n",
       "      <td>Num</td>\n",
       "      <td></td>\n",
       "    </tr>\n",
       "    <tr>\n",
       "      <td>Num_MVs_per_dweling_3_MVs</td>\n",
       "      <td>8.0</td>\n",
       "      <td>Input</td>\n",
       "      <td>Interval</td>\n",
       "      <td>Num</td>\n",
       "      <td></td>\n",
       "    </tr>\n",
       "    <tr>\n",
       "      <td>Num_MVs_per_dweling_4mo_MVs</td>\n",
       "      <td>8.0</td>\n",
       "      <td>Input</td>\n",
       "      <td>Interval</td>\n",
       "      <td>Num</td>\n",
       "      <td></td>\n",
       "    </tr>\n",
       "    <tr>\n",
       "      <td>Num_Psns_UR_1_Total</td>\n",
       "      <td>8.0</td>\n",
       "      <td>Input</td>\n",
       "      <td>Interval</td>\n",
       "      <td>Num</td>\n",
       "      <td></td>\n",
       "    </tr>\n",
       "    <tr>\n",
       "      <td>Num_Psns_UR_2_Total</td>\n",
       "      <td>8.0</td>\n",
       "      <td>Input</td>\n",
       "      <td>Interval</td>\n",
       "      <td>Num</td>\n",
       "      <td></td>\n",
       "    </tr>\n",
       "    <tr>\n",
       "      <td>Num_Psns_UR_3_Total</td>\n",
       "      <td>8.0</td>\n",
       "      <td>Input</td>\n",
       "      <td>Interval</td>\n",
       "      <td>Num</td>\n",
       "      <td></td>\n",
       "    </tr>\n",
       "    <tr>\n",
       "      <td>Num_Psns_UR_4_Total</td>\n",
       "      <td>8.0</td>\n",
       "      <td>Input</td>\n",
       "      <td>Interval</td>\n",
       "      <td>Num</td>\n",
       "      <td></td>\n",
       "    </tr>\n",
       "    <tr>\n",
       "      <td>Num_Psns_UR_5_Total</td>\n",
       "      <td>8.0</td>\n",
       "      <td>Input</td>\n",
       "      <td>Interval</td>\n",
       "      <td>Num</td>\n",
       "      <td></td>\n",
       "    </tr>\n",
       "    <tr>\n",
       "      <td>Num_Psns_UR_6mo_Total</td>\n",
       "      <td>8.0</td>\n",
       "      <td>Input</td>\n",
       "      <td>Interval</td>\n",
       "      <td>Num</td>\n",
       "      <td></td>\n",
       "    </tr>\n",
       "    <tr>\n",
       "      <td>M_0_299_Tot</td>\n",
       "      <td>8.0</td>\n",
       "      <td>Input</td>\n",
       "      <td>Interval</td>\n",
       "      <td>Num</td>\n",
       "      <td></td>\n",
       "    </tr>\n",
       "    <tr>\n",
       "      <td>M_300_449_Tot</td>\n",
       "      <td>8.0</td>\n",
       "      <td>Input</td>\n",
       "      <td>Interval</td>\n",
       "      <td>Num</td>\n",
       "      <td></td>\n",
       "    </tr>\n",
       "    <tr>\n",
       "      <td>M_450_599_Tot</td>\n",
       "      <td>8.0</td>\n",
       "      <td>Input</td>\n",
       "      <td>Interval</td>\n",
       "      <td>Num</td>\n",
       "      <td></td>\n",
       "    </tr>\n",
       "    <tr>\n",
       "      <td>M_600_799_Tot</td>\n",
       "      <td>8.0</td>\n",
       "      <td>Input</td>\n",
       "      <td>Interval</td>\n",
       "      <td>Num</td>\n",
       "      <td></td>\n",
       "    </tr>\n",
       "    <tr>\n",
       "      <td>M_800_999_Tot</td>\n",
       "      <td>8.0</td>\n",
       "      <td>Input</td>\n",
       "      <td>Interval</td>\n",
       "      <td>Num</td>\n",
       "      <td></td>\n",
       "    </tr>\n",
       "    <tr>\n",
       "      <td>M_1000_1399_Tot</td>\n",
       "      <td>8.0</td>\n",
       "      <td>Input</td>\n",
       "      <td>Interval</td>\n",
       "      <td>Num</td>\n",
       "      <td></td>\n",
       "    </tr>\n",
       "    <tr>\n",
       "      <td>M_1400_1799_Tot</td>\n",
       "      <td>8.0</td>\n",
       "      <td>Input</td>\n",
       "      <td>Interval</td>\n",
       "      <td>Num</td>\n",
       "      <td></td>\n",
       "    </tr>\n",
       "    <tr>\n",
       "      <td>M_1800_2399_Tot</td>\n",
       "      <td>8.0</td>\n",
       "      <td>Input</td>\n",
       "      <td>Interval</td>\n",
       "      <td>Num</td>\n",
       "      <td></td>\n",
       "    </tr>\n",
       "    <tr>\n",
       "      <td>M_2400_2999_Tot</td>\n",
       "      <td>8.0</td>\n",
       "      <td>Input</td>\n",
       "      <td>Interval</td>\n",
       "      <td>Num</td>\n",
       "      <td></td>\n",
       "    </tr>\n",
       "    <tr>\n",
       "      <td>M_3000_3999_Tot</td>\n",
       "      <td>8.0</td>\n",
       "      <td>Input</td>\n",
       "      <td>Interval</td>\n",
       "      <td>Num</td>\n",
       "      <td></td>\n",
       "    </tr>\n",
       "    <tr>\n",
       "      <td>M_4000_over_Tot</td>\n",
       "      <td>8.0</td>\n",
       "      <td>Input</td>\n",
       "      <td>Interval</td>\n",
       "      <td>Num</td>\n",
       "      <td></td>\n",
       "    </tr>\n",
       "  </tbody>\n",
       "</table>\n",
       "</div>\n",
       "</div>\n",
       "<div><hr /><b>&#167; OutputVariables</b></div>\n",
       "<div class=\"cas-results=body\">\n",
       "<div>\n",
       "<style scoped>\n",
       "    .dataframe tbody tr th:only-of-type {\n",
       "        vertical-align: middle;\n",
       "    }\n",
       "\n",
       "    .dataframe tbody tr th {\n",
       "        vertical-align: top;\n",
       "    }\n",
       "\n",
       "    .dataframe thead th {\n",
       "        text-align: right;\n",
       "    }\n",
       "</style>\n",
       "<table border=\"1\" class=\"dataframe\">\n",
       "<caption style=\"text-align: center;\">Output Variables</caption>\n",
       "  <thead>\n",
       "    <tr style=\"text-align: right;\">\n",
       "      <th>Name</th>\n",
       "      <th>Length</th>\n",
       "      <th>Type</th>\n",
       "      <th>Label</th>\n",
       "    </tr>\n",
       "  </thead>\n",
       "  <tbody>\n",
       "    <tr>\n",
       "      <td>Prin1</td>\n",
       "      <td>8.0</td>\n",
       "      <td>Num</td>\n",
       "      <td></td>\n",
       "    </tr>\n",
       "    <tr>\n",
       "      <td>Prin2</td>\n",
       "      <td>8.0</td>\n",
       "      <td>Num</td>\n",
       "      <td></td>\n",
       "    </tr>\n",
       "    <tr>\n",
       "      <td>Prin3</td>\n",
       "      <td>8.0</td>\n",
       "      <td>Num</td>\n",
       "      <td></td>\n",
       "    </tr>\n",
       "    <tr>\n",
       "      <td>Prin4</td>\n",
       "      <td>8.0</td>\n",
       "      <td>Num</td>\n",
       "      <td></td>\n",
       "    </tr>\n",
       "    <tr>\n",
       "      <td>Prin5</td>\n",
       "      <td>8.0</td>\n",
       "      <td>Num</td>\n",
       "      <td></td>\n",
       "    </tr>\n",
       "    <tr>\n",
       "      <td>Prin6</td>\n",
       "      <td>8.0</td>\n",
       "      <td>Num</td>\n",
       "      <td></td>\n",
       "    </tr>\n",
       "    <tr>\n",
       "      <td>Prin7</td>\n",
       "      <td>8.0</td>\n",
       "      <td>Num</td>\n",
       "      <td></td>\n",
       "    </tr>\n",
       "    <tr>\n",
       "      <td>Prin8</td>\n",
       "      <td>8.0</td>\n",
       "      <td>Num</td>\n",
       "      <td></td>\n",
       "    </tr>\n",
       "    <tr>\n",
       "      <td>Prin9</td>\n",
       "      <td>8.0</td>\n",
       "      <td>Num</td>\n",
       "      <td></td>\n",
       "    </tr>\n",
       "    <tr>\n",
       "      <td>Prin10</td>\n",
       "      <td>8.0</td>\n",
       "      <td>Num</td>\n",
       "      <td></td>\n",
       "    </tr>\n",
       "    <tr>\n",
       "      <td>Prin11</td>\n",
       "      <td>8.0</td>\n",
       "      <td>Num</td>\n",
       "      <td></td>\n",
       "    </tr>\n",
       "    <tr>\n",
       "      <td>Prin12</td>\n",
       "      <td>8.0</td>\n",
       "      <td>Num</td>\n",
       "      <td></td>\n",
       "    </tr>\n",
       "    <tr>\n",
       "      <td>Prin13</td>\n",
       "      <td>8.0</td>\n",
       "      <td>Num</td>\n",
       "      <td></td>\n",
       "    </tr>\n",
       "    <tr>\n",
       "      <td>Prin14</td>\n",
       "      <td>8.0</td>\n",
       "      <td>Num</td>\n",
       "      <td></td>\n",
       "    </tr>\n",
       "    <tr>\n",
       "      <td>Prin15</td>\n",
       "      <td>8.0</td>\n",
       "      <td>Num</td>\n",
       "      <td></td>\n",
       "    </tr>\n",
       "    <tr>\n",
       "      <td>Prin16</td>\n",
       "      <td>8.0</td>\n",
       "      <td>Num</td>\n",
       "      <td></td>\n",
       "    </tr>\n",
       "    <tr>\n",
       "      <td>Prin17</td>\n",
       "      <td>8.0</td>\n",
       "      <td>Num</td>\n",
       "      <td></td>\n",
       "    </tr>\n",
       "    <tr>\n",
       "      <td>Prin18</td>\n",
       "      <td>8.0</td>\n",
       "      <td>Num</td>\n",
       "      <td></td>\n",
       "    </tr>\n",
       "    <tr>\n",
       "      <td>Prin19</td>\n",
       "      <td>8.0</td>\n",
       "      <td>Num</td>\n",
       "      <td></td>\n",
       "    </tr>\n",
       "    <tr>\n",
       "      <td>Prin20</td>\n",
       "      <td>8.0</td>\n",
       "      <td>Num</td>\n",
       "      <td></td>\n",
       "    </tr>\n",
       "  </tbody>\n",
       "</table>\n",
       "</div>\n",
       "</div>"
      ],
      "text/plain": [
       "[Key]\n",
       "\n",
       "               Store Key                \n",
       " \n",
       "                                      Key\n",
       " DE80C7A447C37A2D2A23D212A37F67B58620316B\n",
       "\n",
       "[Description]\n",
       "\n",
       "        Basic Information         \n",
       " \n",
       "       Attribute              Value\n",
       " Analytic Engine                pca\n",
       "    Time Created 02Dec2024:04:51:24\n",
       "\n",
       "[InputVariables]\n",
       "\n",
       "                           Input Variables                            \n",
       " \n",
       "                         Name  Length  Role     Type RawType FormatName\n",
       "                SA2_CODE_2021     8.0 Input Interval     Num           \n",
       "           Median_age_persons     8.0 Input Interval     Num           \n",
       "           Median_rent_weekly     8.0 Input Interval     Num           \n",
       " Average_num_psns_per_bedroom     8.0 Input Interval     Num           \n",
       "       Average_household_size     8.0 Input Interval     Num           \n",
       "                 HI_1_149_Tot     8.0 Input Interval     Num           \n",
       "               HI_150_299_Tot     8.0 Input Interval     Num           \n",
       "               HI_400_499_Tot     8.0 Input Interval     Num           \n",
       "               HI_500_649_Tot     8.0 Input Interval     Num           \n",
       "               HI_650_799_Tot     8.0 Input Interval     Num           \n",
       "               HI_800_999_Tot     8.0 Input Interval     Num           \n",
       "             HI_1000_1249_Tot     8.0 Input Interval     Num           \n",
       "             HI_1250_1499_Tot     8.0 Input Interval     Num           \n",
       "             HI_1500_1749_Tot     8.0 Input Interval     Num           \n",
       "             HI_1750_1999_Tot     8.0 Input Interval     Num           \n",
       "             HI_2000_2499_Tot     8.0 Input Interval     Num           \n",
       "             HI_2500_2999_Tot     8.0 Input Interval     Num           \n",
       "             HI_3000_3499_Tot     8.0 Input Interval     Num           \n",
       "             HI_3500_3999_Tot     8.0 Input Interval     Num           \n",
       "             HI_4000_more_Tot     8.0 Input Interval     Num           \n",
       "    Num_MVs_per_dweling_0_MVs     8.0 Input Interval     Num           \n",
       "    Num_MVs_per_dweling_1_MVs     8.0 Input Interval     Num           \n",
       "    Num_MVs_per_dweling_2_MVs     8.0 Input Interval     Num           \n",
       "    Num_MVs_per_dweling_3_MVs     8.0 Input Interval     Num           \n",
       "  Num_MVs_per_dweling_4mo_MVs     8.0 Input Interval     Num           \n",
       "          Num_Psns_UR_1_Total     8.0 Input Interval     Num           \n",
       "          Num_Psns_UR_2_Total     8.0 Input Interval     Num           \n",
       "          Num_Psns_UR_3_Total     8.0 Input Interval     Num           \n",
       "          Num_Psns_UR_4_Total     8.0 Input Interval     Num           \n",
       "          Num_Psns_UR_5_Total     8.0 Input Interval     Num           \n",
       "        Num_Psns_UR_6mo_Total     8.0 Input Interval     Num           \n",
       "                  M_0_299_Tot     8.0 Input Interval     Num           \n",
       "                M_300_449_Tot     8.0 Input Interval     Num           \n",
       "                M_450_599_Tot     8.0 Input Interval     Num           \n",
       "                M_600_799_Tot     8.0 Input Interval     Num           \n",
       "                M_800_999_Tot     8.0 Input Interval     Num           \n",
       "              M_1000_1399_Tot     8.0 Input Interval     Num           \n",
       "              M_1400_1799_Tot     8.0 Input Interval     Num           \n",
       "              M_1800_2399_Tot     8.0 Input Interval     Num           \n",
       "              M_2400_2999_Tot     8.0 Input Interval     Num           \n",
       "              M_3000_3999_Tot     8.0 Input Interval     Num           \n",
       "              M_4000_over_Tot     8.0 Input Interval     Num           \n",
       "\n",
       "[OutputVariables]\n",
       "\n",
       "    Output Variables     \n",
       " \n",
       "   Name  Length Type Label\n",
       "  Prin1     8.0  Num      \n",
       "  Prin2     8.0  Num      \n",
       "  Prin3     8.0  Num      \n",
       "  Prin4     8.0  Num      \n",
       "  Prin5     8.0  Num      \n",
       "  Prin6     8.0  Num      \n",
       "  Prin7     8.0  Num      \n",
       "  Prin8     8.0  Num      \n",
       "  Prin9     8.0  Num      \n",
       " Prin10     8.0  Num      \n",
       " Prin11     8.0  Num      \n",
       " Prin12     8.0  Num      \n",
       " Prin13     8.0  Num      \n",
       " Prin14     8.0  Num      \n",
       " Prin15     8.0  Num      \n",
       " Prin16     8.0  Num      \n",
       " Prin17     8.0  Num      \n",
       " Prin18     8.0  Num      \n",
       " Prin19     8.0  Num      \n",
       " Prin20     8.0  Num      \n",
       "\n"
      ]
     },
     "execution_count": 27,
     "metadata": {},
     "output_type": "execute_result"
    }
   ],
   "source": [
    "## SAS champion model tuning\n",
    "# Specify the number of principal components to keep\n",
    "n_components = 20\n",
    "\n",
    "# using PCA to for feature selection\n",
    "pca = sas_PCA(n_components=n_components, random_state=42)\n",
    "X_train_pca = pca.fit_transform(X_train)\n",
    "X_test_pca = pca.transform(X_test)\n",
    "\n",
    "pca.describe()"
   ]
  },
  {
   "cell_type": "code",
   "execution_count": 44,
   "id": "c7205e3e-f0b8-4654-8dd8-66b89307c5ca",
   "metadata": {},
   "outputs": [
    {
     "name": "stdout",
     "output_type": "stream",
     "text": [
      "Fitting 3 folds for each of 27 candidates, totalling 81 fits\n",
      "Best parameters: {'regressor__C': 1.0, 'regressor__degree': 2, 'regressor__epsilon': 0.1}\n",
      "Best cross-validation score (neg MSE): -223.0534242991439\n"
     ]
    }
   ],
   "source": [
    "# Define the SVR model\n",
    "sas_svr = sas_SVR(kernel='poly', random_state=42)\n",
    "\n",
    "# Set up the parameter grid\n",
    "param_grid = {\n",
    "    'regressor__C': [0.1, 1.0, 10.0],\n",
    "    'regressor__epsilon': [0.01, 0.1, 0.2],\n",
    "    'regressor__degree': [2, 3, 4],  # Only relevant for polynomial kernel\n",
    "}\n",
    "\n",
    "# Set up GridSearchCV\n",
    "grid_search = GridSearchCV(\n",
    "    estimator=Pipeline([\n",
    "        ('scaler', StandardScaler()),\n",
    "        ('regressor', sas_svr)\n",
    "    ]),\n",
    "    param_grid=param_grid,\n",
    "    scoring='neg_mean_squared_error',\n",
    "    cv=3,\n",
    "    verbose=1,\n",
    "    n_jobs=-1  # Use all available cores\n",
    ")\n",
    "\n",
    "# Fit the grid search\n",
    "grid_search.fit(X_train_pca, y_train) # using features from PCA\n",
    "\n",
    "# Display the best parameters and best score\n",
    "print(f\"Best parameters: {grid_search.best_params_}\")\n",
    "print(f\"Best cross-validation score (neg MSE): {grid_search.best_score_}\")"
   ]
  },
  {
   "cell_type": "code",
   "execution_count": 29,
   "id": "0a13a317-3e2a-49bc-a80e-25fe58866ded",
   "metadata": {},
   "outputs": [
    {
     "name": "stdout",
     "output_type": "stream",
     "text": [
      "Regressor: Pipeline\n",
      "Mean Absolute Error: 10.09\n",
      "Mean Squared Error: 248.41\n",
      "R² Score: 0.94\n",
      "Time elapsed: 0.16 seconds\n"
     ]
    }
   ],
   "source": [
    "create_and_evaluate_pipeline(X_train_pca, X_test_pca, y_train, y_test, \n",
    "                             grid_search.best_estimator_)"
   ]
  },
  {
   "cell_type": "code",
   "execution_count": 45,
   "id": "5c13d2c3-6cba-4208-b444-7397815a3ed0",
   "metadata": {},
   "outputs": [
    {
     "name": "stdout",
     "output_type": "stream",
     "text": [
      "Fitting 3 folds for each of 27 candidates, totalling 81 fits\n"
     ]
    },
    {
     "name": "stderr",
     "output_type": "stream",
     "text": [
      "2024-12-02 05:01:39,809 [ERROR   ] [151 ][_action.py     ] The total feature dimension (42) is high for polynomial degree 3.\n",
      "2024-12-02 05:01:39,809 [ERROR   ] [151 ][_action.py     ] The dimension is too high to process.\n",
      "2024-12-02 05:01:39,879 [ERROR   ] [151 ][_action.py     ] The total feature dimension (42) is high for polynomial degree 3.\n",
      "2024-12-02 05:01:39,879 [ERROR   ] [151 ][_action.py     ] The dimension is too high to process.\n",
      "2024-12-02 05:01:39,910 [ERROR   ] [151 ][_action.py     ] The total feature dimension (42) is high for polynomial degree 3.\n",
      "2024-12-02 05:01:39,911 [ERROR   ] [151 ][_action.py     ] The dimension is too high to process.\n",
      "2024-12-02 05:01:39,914 [ERROR   ] [151 ][_action.py     ] The total feature dimension (42) is high for polynomial degree 3.\n",
      "2024-12-02 05:01:39,914 [ERROR   ] [151 ][_action.py     ] The dimension is too high to process.\n",
      "2024-12-02 05:01:39,979 [ERROR   ] [151 ][_action.py     ] The total feature dimension (42) is high for polynomial degree 3.\n",
      "2024-12-02 05:01:39,979 [ERROR   ] [151 ][_action.py     ] The dimension is too high to process.\n",
      "2024-12-02 05:01:39,999 [ERROR   ] [151 ][_action.py     ] The total feature dimension (42) is high for polynomial degree 3.\n",
      "2024-12-02 05:01:40,000 [ERROR   ] [151 ][_action.py     ] The dimension is too high to process.\n",
      "2024-12-02 05:01:40,065 [ERROR   ] [151 ][_action.py     ] The total feature dimension (42) is high for polynomial degree 3.\n",
      "2024-12-02 05:01:40,065 [ERROR   ] [151 ][_action.py     ] The dimension is too high to process.\n",
      "2024-12-02 05:01:40,074 [ERROR   ] [151 ][_action.py     ] The total feature dimension (42) is high for polynomial degree 3.\n",
      "2024-12-02 05:01:40,074 [ERROR   ] [151 ][_action.py     ] The dimension is too high to process.\n",
      "2024-12-02 05:01:40,087 [ERROR   ] [151 ][_action.py     ] The total feature dimension (42) is high for polynomial degree 3.\n",
      "2024-12-02 05:01:40,087 [ERROR   ] [151 ][_action.py     ] The dimension is too high to process.\n",
      "2024-12-02 05:01:43,056 [ERROR   ] [151 ][_action.py     ] The total feature dimension (42) is high for polynomial degree 3.\n",
      "2024-12-02 05:01:43,057 [ERROR   ] [151 ][_action.py     ] The dimension is too high to process.\n",
      "2024-12-02 05:01:43,095 [ERROR   ] [151 ][_action.py     ] The total feature dimension (42) is high for polynomial degree 3.\n",
      "2024-12-02 05:01:43,095 [ERROR   ] [151 ][_action.py     ] The dimension is too high to process.\n",
      "2024-12-02 05:01:43,150 [ERROR   ] [151 ][_action.py     ] The total feature dimension (42) is high for polynomial degree 3.\n",
      "2024-12-02 05:01:43,150 [ERROR   ] [151 ][_action.py     ] The dimension is too high to process.\n",
      "2024-12-02 05:01:43,151 [ERROR   ] [151 ][_action.py     ] The total feature dimension (42) is high for polynomial degree 3.\n",
      "2024-12-02 05:01:43,151 [ERROR   ] [151 ][_action.py     ] The dimension is too high to process.\n",
      "2024-12-02 05:01:43,235 [ERROR   ] [151 ][_action.py     ] The total feature dimension (42) is high for polynomial degree 3.\n",
      "2024-12-02 05:01:43,235 [ERROR   ] [151 ][_action.py     ] The dimension is too high to process.\n",
      "2024-12-02 05:01:43,243 [ERROR   ] [151 ][_action.py     ] The total feature dimension (42) is high for polynomial degree 3.\n",
      "2024-12-02 05:01:43,243 [ERROR   ] [151 ][_action.py     ] The dimension is too high to process.\n",
      "2024-12-02 05:01:43,281 [ERROR   ] [151 ][_action.py     ] The total feature dimension (42) is high for polynomial degree 3.\n",
      "2024-12-02 05:01:43,281 [ERROR   ] [151 ][_action.py     ] The dimension is too high to process.\n",
      "2024-12-02 05:01:43,389 [ERROR   ] [151 ][_action.py     ] The total feature dimension (42) is high for polynomial degree 3.\n",
      "2024-12-02 05:01:43,389 [ERROR   ] [151 ][_action.py     ] The dimension is too high to process.\n",
      "2024-12-02 05:01:43,398 [ERROR   ] [151 ][_action.py     ] The total feature dimension (42) is high for polynomial degree 3.\n",
      "2024-12-02 05:01:43,398 [ERROR   ] [151 ][_action.py     ] The dimension is too high to process.\n",
      "2024-12-02 05:01:46,297 [ERROR   ] [151 ][_action.py     ] The total feature dimension (42) is high for polynomial degree 3.\n",
      "2024-12-02 05:01:46,298 [ERROR   ] [151 ][_action.py     ] The dimension is too high to process.\n",
      "2024-12-02 05:01:46,347 [ERROR   ] [151 ][_action.py     ] The total feature dimension (42) is high for polynomial degree 3.\n",
      "2024-12-02 05:01:46,347 [ERROR   ] [151 ][_action.py     ] The dimension is too high to process.\n",
      "2024-12-02 05:01:46,374 [ERROR   ] [151 ][_action.py     ] The total feature dimension (42) is high for polynomial degree 3.\n",
      "2024-12-02 05:01:46,374 [ERROR   ] [151 ][_action.py     ] The dimension is too high to process.\n",
      "2024-12-02 05:01:46,467 [ERROR   ] [151 ][_action.py     ] The total feature dimension (42) is high for polynomial degree 3.\n",
      "2024-12-02 05:01:46,467 [ERROR   ] [151 ][_action.py     ] The dimension is too high to process.\n",
      "2024-12-02 05:01:46,477 [ERROR   ] [151 ][_action.py     ] The total feature dimension (42) is high for polynomial degree 3.\n",
      "2024-12-02 05:01:46,478 [ERROR   ] [151 ][_action.py     ] The dimension is too high to process.\n",
      "2024-12-02 05:01:46,504 [ERROR   ] [151 ][_action.py     ] The total feature dimension (42) is high for polynomial degree 3.\n",
      "2024-12-02 05:01:46,505 [ERROR   ] [151 ][_action.py     ] The dimension is too high to process.\n",
      "2024-12-02 05:01:46,556 [ERROR   ] [151 ][_action.py     ] The total feature dimension (42) is high for polynomial degree 3.\n",
      "2024-12-02 05:01:46,556 [ERROR   ] [151 ][_action.py     ] The dimension is too high to process.\n",
      "2024-12-02 05:01:46,587 [ERROR   ] [151 ][_action.py     ] The total feature dimension (42) is high for polynomial degree 3.\n",
      "2024-12-02 05:01:46,587 [ERROR   ] [151 ][_action.py     ] The dimension is too high to process.\n",
      "2024-12-02 05:01:46,591 [ERROR   ] [151 ][_action.py     ] The total feature dimension (42) is high for polynomial degree 3.\n",
      "2024-12-02 05:01:46,591 [ERROR   ] [151 ][_action.py     ] The dimension is too high to process.\n"
     ]
    },
    {
     "name": "stdout",
     "output_type": "stream",
     "text": [
      "Best parameters: {'regressor__C': 0.1, 'regressor__degree': 2, 'regressor__epsilon': 0.1}\n",
      "Best cross-validation score (neg MSE): -203.11472253080365\n"
     ]
    }
   ],
   "source": [
    "# Define the SVR model\n",
    "sas_svr = sas_SVR(kernel='poly', random_state=42)\n",
    "\n",
    "# Set up the parameter grid\n",
    "param_grid = {\n",
    "    'regressor__C': [0.1, 1.0, 10.0],\n",
    "    'regressor__epsilon': [0.01, 0.1, 0.2],\n",
    "    'regressor__degree': [2, 3, 4],  # Only relevant for polynomial kernel\n",
    "}\n",
    "\n",
    "# Set up GridSearchCV\n",
    "grid_search = GridSearchCV(\n",
    "    estimator=Pipeline([\n",
    "        ('scaler', StandardScaler()),\n",
    "        ('regressor', sas_svr)\n",
    "    ]),\n",
    "    param_grid=param_grid,\n",
    "    scoring='neg_mean_squared_error',\n",
    "    cv=3,\n",
    "    verbose=1,\n",
    "    n_jobs=-1  # Use all available cores\n",
    ")\n",
    "\n",
    "# Fit the grid search\n",
    "grid_search.fit(X_train, y_train) # using not selected features\n",
    "\n",
    "# Display the best parameters and best score\n",
    "print(f\"Best parameters: {grid_search.best_params_}\")\n",
    "print(f\"Best cross-validation score (neg MSE): {grid_search.best_score_}\")"
   ]
  },
  {
   "cell_type": "code",
   "execution_count": 31,
   "id": "943c91f3-f8cf-4db6-bb5f-5d5f0b8d2e09",
   "metadata": {},
   "outputs": [
    {
     "name": "stdout",
     "output_type": "stream",
     "text": [
      "Regressor: Pipeline\n",
      "Mean Absolute Error: 9.72\n",
      "Mean Squared Error: 209.21\n",
      "R² Score: 0.95\n",
      "Time elapsed: 0.61 seconds\n"
     ]
    }
   ],
   "source": [
    "create_and_evaluate_pipeline(X_train, X_test, y_train, y_test, \n",
    "                             grid_search.best_estimator_)"
   ]
  },
  {
   "cell_type": "markdown",
   "id": "0e004641-8208-4d6a-825a-f21009208991",
   "metadata": {},
   "source": [
    "\n",
    "<div class=\"alert alert-info\" role=\"alert\">\n",
    "    Best model is the SAS SVR model before PCA. Model tuning slightly reduced the MAE and sped up compute time, but MSE increased and no imporvement to R^2.\n",
    "</div>"
   ]
  },
  {
   "cell_type": "markdown",
   "id": "6090c5e4-18e1-4814-bec8-d8dd955dc7bc",
   "metadata": {},
   "source": [
    "## Model Registration and Deployment \n",
    "Models built on Workbench, whether they are scikit-learn models or SAS Viya ML models can be registered into the model repository on Viya (SAS Model Manager). This is a crucial step in ensuring that models can be goverened properly as corporate assets before being pushed into production.\n",
    "\n",
    "Let's look at examples of how to register a SAS Viya ML model."
   ]
  },
  {
   "cell_type": "code",
   "execution_count": 47,
   "id": "6ea425e9-115c-48ed-aba2-c19cb1e5dbbc",
   "metadata": {},
   "outputs": [],
   "source": [
    "name = \"tztsai\""
   ]
  },
  {
   "cell_type": "code",
   "execution_count": 48,
   "id": "57e8a30b",
   "metadata": {},
   "outputs": [
    {
     "data": {
      "text/html": [
       "<style>#sk-container-id-2 {color: black;}#sk-container-id-2 pre{padding: 0;}#sk-container-id-2 div.sk-toggleable {background-color: white;}#sk-container-id-2 label.sk-toggleable__label {cursor: pointer;display: block;width: 100%;margin-bottom: 0;padding: 0.3em;box-sizing: border-box;text-align: center;}#sk-container-id-2 label.sk-toggleable__label-arrow:before {content: \"▸\";float: left;margin-right: 0.25em;color: #696969;}#sk-container-id-2 label.sk-toggleable__label-arrow:hover:before {color: black;}#sk-container-id-2 div.sk-estimator:hover label.sk-toggleable__label-arrow:before {color: black;}#sk-container-id-2 div.sk-toggleable__content {max-height: 0;max-width: 0;overflow: hidden;text-align: left;background-color: #f0f8ff;}#sk-container-id-2 div.sk-toggleable__content pre {margin: 0.2em;color: black;border-radius: 0.25em;background-color: #f0f8ff;}#sk-container-id-2 input.sk-toggleable__control:checked~div.sk-toggleable__content {max-height: 200px;max-width: 100%;overflow: auto;}#sk-container-id-2 input.sk-toggleable__control:checked~label.sk-toggleable__label-arrow:before {content: \"▾\";}#sk-container-id-2 div.sk-estimator input.sk-toggleable__control:checked~label.sk-toggleable__label {background-color: #d4ebff;}#sk-container-id-2 div.sk-label input.sk-toggleable__control:checked~label.sk-toggleable__label {background-color: #d4ebff;}#sk-container-id-2 input.sk-hidden--visually {border: 0;clip: rect(1px 1px 1px 1px);clip: rect(1px, 1px, 1px, 1px);height: 1px;margin: -1px;overflow: hidden;padding: 0;position: absolute;width: 1px;}#sk-container-id-2 div.sk-estimator {font-family: monospace;background-color: #f0f8ff;border: 1px dotted black;border-radius: 0.25em;box-sizing: border-box;margin-bottom: 0.5em;}#sk-container-id-2 div.sk-estimator:hover {background-color: #d4ebff;}#sk-container-id-2 div.sk-parallel-item::after {content: \"\";width: 100%;border-bottom: 1px solid gray;flex-grow: 1;}#sk-container-id-2 div.sk-label:hover label.sk-toggleable__label {background-color: #d4ebff;}#sk-container-id-2 div.sk-serial::before {content: \"\";position: absolute;border-left: 1px solid gray;box-sizing: border-box;top: 0;bottom: 0;left: 50%;z-index: 0;}#sk-container-id-2 div.sk-serial {display: flex;flex-direction: column;align-items: center;background-color: white;padding-right: 0.2em;padding-left: 0.2em;position: relative;}#sk-container-id-2 div.sk-item {position: relative;z-index: 1;}#sk-container-id-2 div.sk-parallel {display: flex;align-items: stretch;justify-content: center;background-color: white;position: relative;}#sk-container-id-2 div.sk-item::before, #sk-container-id-2 div.sk-parallel-item::before {content: \"\";position: absolute;border-left: 1px solid gray;box-sizing: border-box;top: 0;bottom: 0;left: 50%;z-index: -1;}#sk-container-id-2 div.sk-parallel-item {display: flex;flex-direction: column;z-index: 1;position: relative;background-color: white;}#sk-container-id-2 div.sk-parallel-item:first-child::after {align-self: flex-end;width: 50%;}#sk-container-id-2 div.sk-parallel-item:last-child::after {align-self: flex-start;width: 50%;}#sk-container-id-2 div.sk-parallel-item:only-child::after {width: 0;}#sk-container-id-2 div.sk-dashed-wrapped {border: 1px dashed gray;margin: 0 0.4em 0.5em 0.4em;box-sizing: border-box;padding-bottom: 0.4em;background-color: white;}#sk-container-id-2 div.sk-label label {font-family: monospace;font-weight: bold;display: inline-block;line-height: 1.2em;}#sk-container-id-2 div.sk-label-container {text-align: center;}#sk-container-id-2 div.sk-container {/* jupyter's `normalize.less` sets `[hidden] { display: none; }` but bootstrap.min.css set `[hidden] { display: none !important; }` so we also need the `!important` here to be able to override the default hidden behavior on the sphinx rendered scikit-learn.org. See: https://github.com/scikit-learn/scikit-learn/issues/21755 */display: inline-block !important;position: relative;}#sk-container-id-2 div.sk-text-repr-fallback {display: none;}</style><div id=\"sk-container-id-2\" class=\"sk-top-container\"><div class=\"sk-text-repr-fallback\"><pre>Pipeline(steps=[(&#x27;scaler&#x27;, StandardScaler()),\n",
       "                (&#x27;regressor&#x27;, SVR(kernel=&quot;poly&quot;, epsilon=0.1))])</pre><b>In a Jupyter environment, please rerun this cell to show the HTML representation or trust the notebook. <br />On GitHub, the HTML representation is unable to render, please try loading this page with nbviewer.org.</b></div><div class=\"sk-container\" hidden><div class=\"sk-item sk-dashed-wrapped\"><div class=\"sk-label-container\"><div class=\"sk-label sk-toggleable\"><input class=\"sk-toggleable__control sk-hidden--visually\" id=\"sk-estimator-id-4\" type=\"checkbox\" ><label for=\"sk-estimator-id-4\" class=\"sk-toggleable__label sk-toggleable__label-arrow\">Pipeline</label><div class=\"sk-toggleable__content\"><pre>Pipeline(steps=[(&#x27;scaler&#x27;, StandardScaler()),\n",
       "                (&#x27;regressor&#x27;, SVR(kernel=&quot;poly&quot;, epsilon=0.1))])</pre></div></div></div><div class=\"sk-serial\"><div class=\"sk-item\"><div class=\"sk-estimator sk-toggleable\"><input class=\"sk-toggleable__control sk-hidden--visually\" id=\"sk-estimator-id-5\" type=\"checkbox\" ><label for=\"sk-estimator-id-5\" class=\"sk-toggleable__label sk-toggleable__label-arrow\">StandardScaler</label><div class=\"sk-toggleable__content\"><pre>StandardScaler()</pre></div></div></div><div class=\"sk-item\"><div class=\"sk-estimator sk-toggleable\"><input class=\"sk-toggleable__control sk-hidden--visually\" id=\"sk-estimator-id-6\" type=\"checkbox\" ><label for=\"sk-estimator-id-6\" class=\"sk-toggleable__label sk-toggleable__label-arrow\">SVR</label><div class=\"sk-toggleable__content\"><pre>SVR(kernel=&quot;poly&quot;, epsilon=0.1)</pre></div></div></div></div></div></div></div>"
      ],
      "text/plain": [
       "Pipeline(steps=[('scaler', StandardScaler()),\n",
       "                ('regressor', SVR(kernel=\"poly\", epsilon=0.1))])"
      ]
     },
     "execution_count": 48,
     "metadata": {},
     "output_type": "execute_result"
    }
   ],
   "source": [
    "# best performing model\n",
    "regressor = sas_SVR(kernel='poly', C=1.0, epsilon=0.1)\n",
    "\n",
    "# Create the pipeline with the specified regressor\n",
    "wb_model = Pipeline([\n",
    "    ('scaler', StandardScaler()),  # Standardizing the data\n",
    "    ('regressor', regressor)        # The regressor passed as an argument\n",
    "])\n",
    "# Fit the model\n",
    "wb_model.fit(X_train, y_train)"
   ]
  },
  {
   "cell_type": "code",
   "execution_count": 49,
   "id": "07e7f46b",
   "metadata": {},
   "outputs": [
    {
     "data": {
      "text/plain": [
       "SVR(kernel=\"poly\", epsilon=0.1)"
      ]
     },
     "execution_count": 49,
     "metadata": {},
     "output_type": "execute_result"
    }
   ],
   "source": [
    "wb_model = sas_SVR(kernel='poly', C=1.0, epsilon=0.1)\n",
    "# Fit the model\n",
    "wb_model.fit(X_train, y_train)"
   ]
  },
  {
   "cell_type": "code",
   "execution_count": 50,
   "id": "f25c0dcb",
   "metadata": {},
   "outputs": [],
   "source": [
    "## get access token for viya env using refresh token. change to your own viya server and preferred authentication method.\n",
    "url = \"https://apgtps2demo.gtp.unx.sas.com\"\n",
    "auth_url = f\"{url}/SASLogon/oauth/token\"\n",
    "## reading long-lived refresh token from txt file\n",
    "refresh_token = Path(f'/workspaces/{os.environ[\"DEFAULT_MOUNTNAME\"]}/Academic_ViyaWorkbench/apgtps2demo_refresh_token.txt').read_text().replace('\\n', '')\n",
    "\n",
    "payload=f'grant_type=refresh_token&refresh_token={refresh_token}'\n",
    "headers = {\n",
    "  'Accept': 'application/json',\n",
    "  'Content-Type': 'application/x-www-form-urlencoded',\n",
    "  'Authorization': 'Basic c2FzLmNsaTo=',\n",
    "}\n",
    "\n",
    "response = requests.request(\"POST\", auth_url, headers=headers, data=payload, verify=False)\n",
    "access_token = response.json()['access_token']"
   ]
  },
  {
   "cell_type": "code",
   "execution_count": 51,
   "id": "d8bdbbfa",
   "metadata": {},
   "outputs": [
    {
     "data": {
      "text/plain": [
       "<sasctl.core.Session at 0x7fb42b269210>"
      ]
     },
     "execution_count": 51,
     "metadata": {},
     "output_type": "execute_result"
    }
   ],
   "source": [
    "st = Session(\"https://apgtps2demo.gtp.unx.sas.com\", token=access_token, verify_ssl=False)\n",
    "st"
   ]
  },
  {
   "cell_type": "code",
   "execution_count": 52,
   "id": "bcbbed39",
   "metadata": {},
   "outputs": [],
   "source": [
    "project_name = \"Academic WorkshopWorkbench HandsOn \"+name"
   ]
  },
  {
   "cell_type": "code",
   "execution_count": 53,
   "id": "2bc6e9e2",
   "metadata": {},
   "outputs": [
    {
     "name": "stderr",
     "output_type": "stream",
     "text": [
      "/usr/local/lib/python3.11/site-packages/urllib3/connectionpool.py:1103: InsecureRequestWarning: Unverified HTTPS request is being made to host 'apgtps2demo.gtp.unx.sas.com'. Adding certificate verification is strongly advised. See: https://urllib3.readthedocs.io/en/latest/advanced-usage.html#tls-warnings\n",
      "  warnings.warn(\n"
     ]
    },
    {
     "name": "stdout",
     "output_type": "stream",
     "text": [
      "Created a new project!\n"
     ]
    }
   ],
   "source": [
    "## Create a project\n",
    "try:\n",
    "    repository = mr.get_repository('DMRepository')\n",
    "    # repository.name\n",
    "    project_create = mr.create_project(\n",
    "        {\n",
    "        'name':project_name,\n",
    "        'description':'Academic WB Hands-on Exercise',\n",
    "        'function':'classification',\n",
    "        'targetLevel':'binary',\n",
    "        },\n",
    "        repository\n",
    "    )\n",
    "    print(\"Created a new project!\")\n",
    "    project = mr.get_project(project_name)\n",
    "except:\n",
    "    print(\"Retrieving already created project\")\n",
    "    project = mr.get_project(project_name)"
   ]
  },
  {
   "cell_type": "code",
   "execution_count": 54,
   "id": "0d8e651e",
   "metadata": {},
   "outputs": [],
   "source": [
    "def register_model(model_name, model, project):\n",
    "    model_params = {\n",
    "        \"name\": model_name,\n",
    "        \"projectId\": project.id,\n",
    "        \"type\": \"ASTORE\",\n",
    "    }\n",
    "    astore = mr.post(\n",
    "        \"/models\",\n",
    "        files={\"files\": (f\"{model_name}.astore\", model.export())},\n",
    "        data=model_params,\n",
    "    )\n",
    "    print(astore)"
   ]
  },
  {
   "cell_type": "code",
   "execution_count": 55,
   "id": "4f16aa82",
   "metadata": {},
   "outputs": [
    {
     "name": "stdout",
     "output_type": "stream",
     "text": [
      "MyModel tztsai\n"
     ]
    }
   ],
   "source": [
    "# Model Registration\n",
    "register_model(\"MyModel \"+name, wb_model, project) "
   ]
  }
 ],
 "metadata": {
  "kernelspec": {
   "display_name": "Python 3",
   "language": "python",
   "name": "python3"
  },
  "language_info": {
   "codemirror_mode": {
    "name": "ipython",
    "version": 3
   },
   "file_extension": ".py",
   "mimetype": "text/x-python",
   "name": "python",
   "nbconvert_exporter": "python",
   "pygments_lexer": "ipython3",
   "version": "3.11.11"
  }
 },
 "nbformat": 4,
 "nbformat_minor": 5
}
